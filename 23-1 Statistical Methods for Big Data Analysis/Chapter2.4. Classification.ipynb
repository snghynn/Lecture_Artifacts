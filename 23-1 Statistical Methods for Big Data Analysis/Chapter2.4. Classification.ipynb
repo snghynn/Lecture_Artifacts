{
 "cells": [
  {
   "cell_type": "markdown",
   "id": "34ca38bc",
   "metadata": {},
   "source": [
    "## 2-4. Classification\n",
    "- 목표: 범주형 범수인 Y를 분류하는 Classifier 찾기!\n",
    "- Regression과의 차이: loss fucnction을 이용해 model fitting\n",
    "- Logistic Regression & LDA\n",
    "\n",
    "## <1. Logistic Regression>\n",
    "\n",
    "### 1. import dataset"
   ]
  },
  {
   "cell_type": "code",
   "execution_count": 2,
   "id": "dbecb511",
   "metadata": {},
   "outputs": [
    {
     "data": {
      "text/html": [
       "<div>\n",
       "<style scoped>\n",
       "    .dataframe tbody tr th:only-of-type {\n",
       "        vertical-align: middle;\n",
       "    }\n",
       "\n",
       "    .dataframe tbody tr th {\n",
       "        vertical-align: top;\n",
       "    }\n",
       "\n",
       "    .dataframe thead th {\n",
       "        text-align: right;\n",
       "    }\n",
       "</style>\n",
       "<table border=\"1\" class=\"dataframe\">\n",
       "  <thead>\n",
       "    <tr style=\"text-align: right;\">\n",
       "      <th></th>\n",
       "      <th>hsgpa</th>\n",
       "      <th>hsengl</th>\n",
       "      <th>hscalc</th>\n",
       "      <th>course</th>\n",
       "      <th>passed</th>\n",
       "      <th>outcome</th>\n",
       "    </tr>\n",
       "  </thead>\n",
       "  <tbody>\n",
       "    <tr>\n",
       "      <th>1</th>\n",
       "      <td>78.0</td>\n",
       "      <td>80</td>\n",
       "      <td>Yes</td>\n",
       "      <td>Mainstrm</td>\n",
       "      <td>No</td>\n",
       "      <td>Failed</td>\n",
       "    </tr>\n",
       "    <tr>\n",
       "      <th>2</th>\n",
       "      <td>66.0</td>\n",
       "      <td>75</td>\n",
       "      <td>Yes</td>\n",
       "      <td>Mainstrm</td>\n",
       "      <td>Yes</td>\n",
       "      <td>Passed</td>\n",
       "    </tr>\n",
       "    <tr>\n",
       "      <th>3</th>\n",
       "      <td>80.2</td>\n",
       "      <td>70</td>\n",
       "      <td>Yes</td>\n",
       "      <td>Mainstrm</td>\n",
       "      <td>Yes</td>\n",
       "      <td>Passed</td>\n",
       "    </tr>\n",
       "    <tr>\n",
       "      <th>4</th>\n",
       "      <td>81.7</td>\n",
       "      <td>67</td>\n",
       "      <td>Yes</td>\n",
       "      <td>Mainstrm</td>\n",
       "      <td>Yes</td>\n",
       "      <td>Passed</td>\n",
       "    </tr>\n",
       "    <tr>\n",
       "      <th>5</th>\n",
       "      <td>86.8</td>\n",
       "      <td>80</td>\n",
       "      <td>Yes</td>\n",
       "      <td>Mainstrm</td>\n",
       "      <td>Yes</td>\n",
       "      <td>Passed</td>\n",
       "    </tr>\n",
       "  </tbody>\n",
       "</table>\n",
       "</div>"
      ],
      "text/plain": [
       "   hsgpa  hsengl hscalc    course passed outcome\n",
       "1   78.0      80    Yes  Mainstrm     No  Failed\n",
       "2   66.0      75    Yes  Mainstrm    Yes  Passed\n",
       "3   80.2      70    Yes  Mainstrm    Yes  Passed\n",
       "4   81.7      67    Yes  Mainstrm    Yes  Passed\n",
       "5   86.8      80    Yes  Mainstrm    Yes  Passed"
      ]
     },
     "execution_count": 2,
     "metadata": {},
     "output_type": "execute_result"
    }
   ],
   "source": [
    "# import package\n",
    "import pandas as pd\n",
    "math = pd.read_csv(\"http://home.ewha.ac.kr/~josong/dm/mathcat.data\", sep = '\\s+')\n",
    "math.head()"
   ]
  },
  {
   "cell_type": "markdown",
   "id": "4a167842",
   "metadata": {},
   "source": [
    "### 2. data preprocessing"
   ]
  },
  {
   "cell_type": "code",
   "execution_count": 3,
   "id": "f46c4b58",
   "metadata": {},
   "outputs": [
    {
     "data": {
      "text/html": [
       "<div>\n",
       "<style scoped>\n",
       "    .dataframe tbody tr th:only-of-type {\n",
       "        vertical-align: middle;\n",
       "    }\n",
       "\n",
       "    .dataframe tbody tr th {\n",
       "        vertical-align: top;\n",
       "    }\n",
       "\n",
       "    .dataframe thead th {\n",
       "        text-align: right;\n",
       "    }\n",
       "</style>\n",
       "<table border=\"1\" class=\"dataframe\">\n",
       "  <thead>\n",
       "    <tr style=\"text-align: right;\">\n",
       "      <th></th>\n",
       "      <th>hsgpa</th>\n",
       "      <th>hsengl</th>\n",
       "      <th>hscalc</th>\n",
       "      <th>course</th>\n",
       "      <th>passed</th>\n",
       "    </tr>\n",
       "  </thead>\n",
       "  <tbody>\n",
       "    <tr>\n",
       "      <th>1</th>\n",
       "      <td>78.0</td>\n",
       "      <td>80</td>\n",
       "      <td>Yes</td>\n",
       "      <td>Mainstrm</td>\n",
       "      <td>No</td>\n",
       "    </tr>\n",
       "    <tr>\n",
       "      <th>2</th>\n",
       "      <td>66.0</td>\n",
       "      <td>75</td>\n",
       "      <td>Yes</td>\n",
       "      <td>Mainstrm</td>\n",
       "      <td>Yes</td>\n",
       "    </tr>\n",
       "    <tr>\n",
       "      <th>3</th>\n",
       "      <td>80.2</td>\n",
       "      <td>70</td>\n",
       "      <td>Yes</td>\n",
       "      <td>Mainstrm</td>\n",
       "      <td>Yes</td>\n",
       "    </tr>\n",
       "    <tr>\n",
       "      <th>4</th>\n",
       "      <td>81.7</td>\n",
       "      <td>67</td>\n",
       "      <td>Yes</td>\n",
       "      <td>Mainstrm</td>\n",
       "      <td>Yes</td>\n",
       "    </tr>\n",
       "    <tr>\n",
       "      <th>5</th>\n",
       "      <td>86.8</td>\n",
       "      <td>80</td>\n",
       "      <td>Yes</td>\n",
       "      <td>Mainstrm</td>\n",
       "      <td>Yes</td>\n",
       "    </tr>\n",
       "  </tbody>\n",
       "</table>\n",
       "</div>"
      ],
      "text/plain": [
       "   hsgpa  hsengl hscalc    course passed\n",
       "1   78.0      80    Yes  Mainstrm     No\n",
       "2   66.0      75    Yes  Mainstrm    Yes\n",
       "3   80.2      70    Yes  Mainstrm    Yes\n",
       "4   81.7      67    Yes  Mainstrm    Yes\n",
       "5   86.8      80    Yes  Mainstrm    Yes"
      ]
     },
     "execution_count": 3,
     "metadata": {},
     "output_type": "execute_result"
    }
   ],
   "source": [
    "math=math.drop('outcome', axis=1)\n",
    "math.head()"
   ]
  },
  {
   "cell_type": "code",
   "execution_count": 4,
   "id": "e639f240",
   "metadata": {},
   "outputs": [
    {
     "data": {
      "text/plain": [
       "Yes    373\n",
       "No      21\n",
       "Name: hscalc, dtype: int64"
      ]
     },
     "execution_count": 4,
     "metadata": {},
     "output_type": "execute_result"
    }
   ],
   "source": [
    "# 범주형 변수들의 value checking\n",
    "math['hscalc'].value_counts()"
   ]
  },
  {
   "cell_type": "code",
   "execution_count": 5,
   "id": "1dddcdbe",
   "metadata": {},
   "outputs": [
    {
     "data": {
      "text/plain": [
       "Mainstrm    328\n",
       "Catch-up     35\n",
       "Elite        31\n",
       "Name: course, dtype: int64"
      ]
     },
     "execution_count": 5,
     "metadata": {},
     "output_type": "execute_result"
    }
   ],
   "source": [
    "math['course'].value_counts()"
   ]
  },
  {
   "cell_type": "code",
   "execution_count": 6,
   "id": "f9335135",
   "metadata": {},
   "outputs": [
    {
     "data": {
      "text/plain": [
       "Yes    236\n",
       "No     158\n",
       "Name: passed, dtype: int64"
      ]
     },
     "execution_count": 6,
     "metadata": {},
     "output_type": "execute_result"
    }
   ],
   "source": [
    "math['passed'].value_counts()"
   ]
  },
  {
   "cell_type": "markdown",
   "id": "a63c5fe0",
   "metadata": {},
   "source": [
    "### (1) Label Encoding\n",
    "\n",
    "Y(target)에 해당되는 passed는 Label Encoding"
   ]
  },
  {
   "cell_type": "code",
   "execution_count": 7,
   "id": "a942ba79",
   "metadata": {},
   "outputs": [
    {
     "data": {
      "text/plain": [
       "'\\n# LabelEncoding (Sol1)\\nfrom sklearn.preprocessing import LabelEncoder\\nitems=math.columns[4:]\\nle=LabelEncoder()\\nfor i in items:\\n    math[i]=le.fit_transform(math[i])\\n    \\nmath.head()\\n'"
      ]
     },
     "execution_count": 7,
     "metadata": {},
     "output_type": "execute_result"
    }
   ],
   "source": [
    "'''\n",
    "# LabelEncoding (Sol1)\n",
    "from sklearn.preprocessing import LabelEncoder\n",
    "items=math.columns[4:]\n",
    "le=LabelEncoder()\n",
    "for i in items:\n",
    "    math[i]=le.fit_transform(math[i])\n",
    "    \n",
    "math.head()\n",
    "'''"
   ]
  },
  {
   "cell_type": "code",
   "execution_count": 8,
   "id": "f735c8ec",
   "metadata": {},
   "outputs": [
    {
     "data": {
      "text/plain": [
       "\"\\n#LabelEncoding (Sol2)\\nitems=math['passed']\\nle=LabelEncoder()\\nlab1=le.fit_transform(items)\\nmath['passed']=lab1\\nmath.head()\\n\""
      ]
     },
     "execution_count": 8,
     "metadata": {},
     "output_type": "execute_result"
    }
   ],
   "source": [
    "'''\n",
    "#LabelEncoding (Sol2)\n",
    "items=math['passed']\n",
    "le=LabelEncoder()\n",
    "lab1=le.fit_transform(items)\n",
    "math['passed']=lab1\n",
    "math.head()\n",
    "'''"
   ]
  },
  {
   "cell_type": "code",
   "execution_count": 10,
   "id": "108ace96",
   "metadata": {},
   "outputs": [
    {
     "data": {
      "text/html": [
       "<div>\n",
       "<style scoped>\n",
       "    .dataframe tbody tr th:only-of-type {\n",
       "        vertical-align: middle;\n",
       "    }\n",
       "\n",
       "    .dataframe tbody tr th {\n",
       "        vertical-align: top;\n",
       "    }\n",
       "\n",
       "    .dataframe thead th {\n",
       "        text-align: right;\n",
       "    }\n",
       "</style>\n",
       "<table border=\"1\" class=\"dataframe\">\n",
       "  <thead>\n",
       "    <tr style=\"text-align: right;\">\n",
       "      <th></th>\n",
       "      <th>hsgpa</th>\n",
       "      <th>hsengl</th>\n",
       "      <th>hscalc</th>\n",
       "      <th>course</th>\n",
       "      <th>passed</th>\n",
       "    </tr>\n",
       "  </thead>\n",
       "  <tbody>\n",
       "    <tr>\n",
       "      <th>1</th>\n",
       "      <td>78.0</td>\n",
       "      <td>80</td>\n",
       "      <td>Yes</td>\n",
       "      <td>Mainstrm</td>\n",
       "      <td>0</td>\n",
       "    </tr>\n",
       "    <tr>\n",
       "      <th>2</th>\n",
       "      <td>66.0</td>\n",
       "      <td>75</td>\n",
       "      <td>Yes</td>\n",
       "      <td>Mainstrm</td>\n",
       "      <td>1</td>\n",
       "    </tr>\n",
       "    <tr>\n",
       "      <th>3</th>\n",
       "      <td>80.2</td>\n",
       "      <td>70</td>\n",
       "      <td>Yes</td>\n",
       "      <td>Mainstrm</td>\n",
       "      <td>1</td>\n",
       "    </tr>\n",
       "    <tr>\n",
       "      <th>4</th>\n",
       "      <td>81.7</td>\n",
       "      <td>67</td>\n",
       "      <td>Yes</td>\n",
       "      <td>Mainstrm</td>\n",
       "      <td>1</td>\n",
       "    </tr>\n",
       "    <tr>\n",
       "      <th>5</th>\n",
       "      <td>86.8</td>\n",
       "      <td>80</td>\n",
       "      <td>Yes</td>\n",
       "      <td>Mainstrm</td>\n",
       "      <td>1</td>\n",
       "    </tr>\n",
       "  </tbody>\n",
       "</table>\n",
       "</div>"
      ],
      "text/plain": [
       "   hsgpa  hsengl hscalc    course  passed\n",
       "1   78.0      80    Yes  Mainstrm       0\n",
       "2   66.0      75    Yes  Mainstrm       1\n",
       "3   80.2      70    Yes  Mainstrm       1\n",
       "4   81.7      67    Yes  Mainstrm       1\n",
       "5   86.8      80    Yes  Mainstrm       1"
      ]
     },
     "execution_count": 10,
     "metadata": {},
     "output_type": "execute_result"
    }
   ],
   "source": [
    "#LabelEncoding (Sol3)\n",
    "from sklearn.preprocessing import LabelEncoder\n",
    "le=LabelEncoder()\n",
    "math['passed']=le.fit_transform(math['passed'])\n",
    "math.head()"
   ]
  },
  {
   "cell_type": "markdown",
   "id": "39f52fa5",
   "metadata": {},
   "source": [
    "### (2) OneHot Encoding\n",
    "- target이 아닌 hscalc, course에 대해 원핫인코딩"
   ]
  },
  {
   "cell_type": "code",
   "execution_count": 11,
   "id": "cd050afc",
   "metadata": {},
   "outputs": [],
   "source": [
    "mymath1=math.copy()\n",
    "mymath2=math.copy()"
   ]
  },
  {
   "cell_type": "code",
   "execution_count": 12,
   "id": "3a8184cb",
   "metadata": {},
   "outputs": [],
   "source": [
    "import pandas as pd\n",
    "mymath1=pd.get_dummies(data=mymath1, columns=['hscalc','course'])"
   ]
  },
  {
   "cell_type": "code",
   "execution_count": 13,
   "id": "7d4669ad",
   "metadata": {},
   "outputs": [
    {
     "data": {
      "text/html": [
       "<div>\n",
       "<style scoped>\n",
       "    .dataframe tbody tr th:only-of-type {\n",
       "        vertical-align: middle;\n",
       "    }\n",
       "\n",
       "    .dataframe tbody tr th {\n",
       "        vertical-align: top;\n",
       "    }\n",
       "\n",
       "    .dataframe thead th {\n",
       "        text-align: right;\n",
       "    }\n",
       "</style>\n",
       "<table border=\"1\" class=\"dataframe\">\n",
       "  <thead>\n",
       "    <tr style=\"text-align: right;\">\n",
       "      <th></th>\n",
       "      <th>hsgpa</th>\n",
       "      <th>hsengl</th>\n",
       "      <th>passed</th>\n",
       "      <th>hscalc_No</th>\n",
       "      <th>hscalc_Yes</th>\n",
       "      <th>course_Catch-up</th>\n",
       "      <th>course_Elite</th>\n",
       "      <th>course_Mainstrm</th>\n",
       "    </tr>\n",
       "  </thead>\n",
       "  <tbody>\n",
       "    <tr>\n",
       "      <th>1</th>\n",
       "      <td>78.0</td>\n",
       "      <td>80</td>\n",
       "      <td>0</td>\n",
       "      <td>0</td>\n",
       "      <td>1</td>\n",
       "      <td>0</td>\n",
       "      <td>0</td>\n",
       "      <td>1</td>\n",
       "    </tr>\n",
       "    <tr>\n",
       "      <th>2</th>\n",
       "      <td>66.0</td>\n",
       "      <td>75</td>\n",
       "      <td>1</td>\n",
       "      <td>0</td>\n",
       "      <td>1</td>\n",
       "      <td>0</td>\n",
       "      <td>0</td>\n",
       "      <td>1</td>\n",
       "    </tr>\n",
       "    <tr>\n",
       "      <th>3</th>\n",
       "      <td>80.2</td>\n",
       "      <td>70</td>\n",
       "      <td>1</td>\n",
       "      <td>0</td>\n",
       "      <td>1</td>\n",
       "      <td>0</td>\n",
       "      <td>0</td>\n",
       "      <td>1</td>\n",
       "    </tr>\n",
       "    <tr>\n",
       "      <th>4</th>\n",
       "      <td>81.7</td>\n",
       "      <td>67</td>\n",
       "      <td>1</td>\n",
       "      <td>0</td>\n",
       "      <td>1</td>\n",
       "      <td>0</td>\n",
       "      <td>0</td>\n",
       "      <td>1</td>\n",
       "    </tr>\n",
       "    <tr>\n",
       "      <th>5</th>\n",
       "      <td>86.8</td>\n",
       "      <td>80</td>\n",
       "      <td>1</td>\n",
       "      <td>0</td>\n",
       "      <td>1</td>\n",
       "      <td>0</td>\n",
       "      <td>0</td>\n",
       "      <td>1</td>\n",
       "    </tr>\n",
       "  </tbody>\n",
       "</table>\n",
       "</div>"
      ],
      "text/plain": [
       "   hsgpa  hsengl  passed  hscalc_No  hscalc_Yes  course_Catch-up  \\\n",
       "1   78.0      80       0          0           1                0   \n",
       "2   66.0      75       1          0           1                0   \n",
       "3   80.2      70       1          0           1                0   \n",
       "4   81.7      67       1          0           1                0   \n",
       "5   86.8      80       1          0           1                0   \n",
       "\n",
       "   course_Elite  course_Mainstrm  \n",
       "1             0                1  \n",
       "2             0                1  \n",
       "3             0                1  \n",
       "4             0                1  \n",
       "5             0                1  "
      ]
     },
     "execution_count": 13,
     "metadata": {},
     "output_type": "execute_result"
    }
   ],
   "source": [
    "mymath1.head()"
   ]
  },
  {
   "cell_type": "markdown",
   "id": "34a311c6",
   "metadata": {},
   "source": [
    "### (3) Data split\n",
    "- 데이터를 X와 Y로 나누기"
   ]
  },
  {
   "cell_type": "code",
   "execution_count": 14,
   "id": "5f0c9609",
   "metadata": {},
   "outputs": [],
   "source": [
    "Y=mymath1.iloc[:,2]\n",
    "mymath1.pop('passed')\n",
    "X=mymath1.iloc[:,:]"
   ]
  },
  {
   "cell_type": "code",
   "execution_count": 15,
   "id": "f28ac2e1",
   "metadata": {},
   "outputs": [
    {
     "data": {
      "text/plain": [
       "1    0\n",
       "2    1\n",
       "3    1\n",
       "4    1\n",
       "5    1\n",
       "Name: passed, dtype: int32"
      ]
     },
     "execution_count": 15,
     "metadata": {},
     "output_type": "execute_result"
    }
   ],
   "source": [
    "Y.head()"
   ]
  },
  {
   "cell_type": "code",
   "execution_count": 16,
   "id": "46faba7f",
   "metadata": {},
   "outputs": [
    {
     "data": {
      "text/html": [
       "<div>\n",
       "<style scoped>\n",
       "    .dataframe tbody tr th:only-of-type {\n",
       "        vertical-align: middle;\n",
       "    }\n",
       "\n",
       "    .dataframe tbody tr th {\n",
       "        vertical-align: top;\n",
       "    }\n",
       "\n",
       "    .dataframe thead th {\n",
       "        text-align: right;\n",
       "    }\n",
       "</style>\n",
       "<table border=\"1\" class=\"dataframe\">\n",
       "  <thead>\n",
       "    <tr style=\"text-align: right;\">\n",
       "      <th></th>\n",
       "      <th>hsgpa</th>\n",
       "      <th>hsengl</th>\n",
       "      <th>hscalc_No</th>\n",
       "      <th>hscalc_Yes</th>\n",
       "      <th>course_Catch-up</th>\n",
       "      <th>course_Elite</th>\n",
       "      <th>course_Mainstrm</th>\n",
       "    </tr>\n",
       "  </thead>\n",
       "  <tbody>\n",
       "    <tr>\n",
       "      <th>1</th>\n",
       "      <td>78.0</td>\n",
       "      <td>80</td>\n",
       "      <td>0</td>\n",
       "      <td>1</td>\n",
       "      <td>0</td>\n",
       "      <td>0</td>\n",
       "      <td>1</td>\n",
       "    </tr>\n",
       "    <tr>\n",
       "      <th>2</th>\n",
       "      <td>66.0</td>\n",
       "      <td>75</td>\n",
       "      <td>0</td>\n",
       "      <td>1</td>\n",
       "      <td>0</td>\n",
       "      <td>0</td>\n",
       "      <td>1</td>\n",
       "    </tr>\n",
       "    <tr>\n",
       "      <th>3</th>\n",
       "      <td>80.2</td>\n",
       "      <td>70</td>\n",
       "      <td>0</td>\n",
       "      <td>1</td>\n",
       "      <td>0</td>\n",
       "      <td>0</td>\n",
       "      <td>1</td>\n",
       "    </tr>\n",
       "    <tr>\n",
       "      <th>4</th>\n",
       "      <td>81.7</td>\n",
       "      <td>67</td>\n",
       "      <td>0</td>\n",
       "      <td>1</td>\n",
       "      <td>0</td>\n",
       "      <td>0</td>\n",
       "      <td>1</td>\n",
       "    </tr>\n",
       "    <tr>\n",
       "      <th>5</th>\n",
       "      <td>86.8</td>\n",
       "      <td>80</td>\n",
       "      <td>0</td>\n",
       "      <td>1</td>\n",
       "      <td>0</td>\n",
       "      <td>0</td>\n",
       "      <td>1</td>\n",
       "    </tr>\n",
       "  </tbody>\n",
       "</table>\n",
       "</div>"
      ],
      "text/plain": [
       "   hsgpa  hsengl  hscalc_No  hscalc_Yes  course_Catch-up  course_Elite  \\\n",
       "1   78.0      80          0           1                0             0   \n",
       "2   66.0      75          0           1                0             0   \n",
       "3   80.2      70          0           1                0             0   \n",
       "4   81.7      67          0           1                0             0   \n",
       "5   86.8      80          0           1                0             0   \n",
       "\n",
       "   course_Mainstrm  \n",
       "1                1  \n",
       "2                1  \n",
       "3                1  \n",
       "4                1  \n",
       "5                1  "
      ]
     },
     "execution_count": 16,
     "metadata": {},
     "output_type": "execute_result"
    }
   ],
   "source": [
    "X.head() #데이터가 잘 나뉘었다."
   ]
  },
  {
   "cell_type": "markdown",
   "id": "c9643f37",
   "metadata": {},
   "source": [
    "### 3. Model Fitting"
   ]
  },
  {
   "cell_type": "code",
   "execution_count": 20,
   "id": "1439f397",
   "metadata": {},
   "outputs": [
    {
     "data": {
      "text/plain": [
       "LogisticRegression()"
      ]
     },
     "execution_count": 20,
     "metadata": {},
     "output_type": "execute_result"
    }
   ],
   "source": [
    "from sklearn.linear_model import LogisticRegression\n",
    "import warnings\n",
    "warnings.filterwarnings(action='ignore')\n",
    "mymodel=LogisticRegression()\n",
    "mymodel.fit(X,Y)\n",
    "LogisticRegression()"
   ]
  },
  {
   "cell_type": "markdown",
   "id": "7ebb5ec4",
   "metadata": {},
   "source": [
    "### 4. Test Model\n",
    "- 학습된 model의 예측값&실제값을 confusion matrix 이용해 판단"
   ]
  },
  {
   "cell_type": "code",
   "execution_count": 21,
   "id": "75e2840e",
   "metadata": {},
   "outputs": [
    {
     "data": {
      "text/plain": [
       "array([[ 98,  60],\n",
       "       [ 38, 198]], dtype=int64)"
      ]
     },
     "execution_count": 21,
     "metadata": {},
     "output_type": "execute_result"
    }
   ],
   "source": [
    "from sklearn.metrics import confusion_matrix\n",
    "mymtx=confusion_matrix(Y, mymodel.predict(X))\n",
    "mymtx"
   ]
  },
  {
   "cell_type": "code",
   "execution_count": 24,
   "id": "442a9fc0",
   "metadata": {},
   "outputs": [
    {
     "data": {
      "text/plain": [
       "0.249"
      ]
     },
     "execution_count": 24,
     "metadata": {},
     "output_type": "execute_result"
    }
   ],
   "source": [
    "# 오분류율(misclass rate) 계산\n",
    "misclass_rate = (mymtx[0,1]+mymtx[1,0])/sum(sum(mymtx))\n",
    "round(misclass_rate, 3)"
   ]
  },
  {
   "cell_type": "markdown",
   "id": "edc43ea2",
   "metadata": {},
   "source": [
    "## <2. LDA(Linear Discriminant Analysis>\n",
    "\n",
    "### (1) import dataset"
   ]
  },
  {
   "cell_type": "code",
   "execution_count": 1,
   "id": "1742099c",
   "metadata": {},
   "outputs": [],
   "source": [
    "#import package\n",
    "import matplotlib.pyplot as plt\n",
    "from sklearn import datasets\n",
    "from sklearn.discriminant_analysis import LinearDiscriminantAnalysis\n",
    "\n",
    "#import dataset\n",
    "myiris=datasets.load_iris()"
   ]
  },
  {
   "cell_type": "markdown",
   "id": "079c18c8",
   "metadata": {},
   "source": [
    "### (2) data preprocessing"
   ]
  },
  {
   "cell_type": "code",
   "execution_count": 2,
   "id": "0b6bd362",
   "metadata": {},
   "outputs": [],
   "source": [
    "X=myiris.data\n",
    "Y=myiris.target\n",
    "target_names=myiris.target_names"
   ]
  },
  {
   "cell_type": "code",
   "execution_count": 3,
   "id": "6fc7e2eb",
   "metadata": {},
   "outputs": [
    {
     "name": "stdout",
     "output_type": "stream",
     "text": [
      "(150, 4)\n"
     ]
    }
   ],
   "source": [
    "print(X.shape)"
   ]
  },
  {
   "cell_type": "code",
   "execution_count": 4,
   "id": "0f7b1653",
   "metadata": {},
   "outputs": [
    {
     "name": "stdout",
     "output_type": "stream",
     "text": [
      "[[5.1 3.5 1.4 0.2]\n",
      " [4.9 3.  1.4 0.2]\n",
      " [4.7 3.2 1.3 0.2]\n",
      " [4.6 3.1 1.5 0.2]\n",
      " [5.  3.6 1.4 0.2]]\n"
     ]
    }
   ],
   "source": [
    "print(X[:5]) #X의 head"
   ]
  },
  {
   "cell_type": "code",
   "execution_count": 5,
   "id": "9b5d0c79",
   "metadata": {},
   "outputs": [
    {
     "name": "stdout",
     "output_type": "stream",
     "text": [
      "[[6.7 3.  5.2 2.3]\n",
      " [6.3 2.5 5.  1.9]\n",
      " [6.5 3.  5.2 2. ]\n",
      " [6.2 3.4 5.4 2.3]\n",
      " [5.9 3.  5.1 1.8]]\n"
     ]
    }
   ],
   "source": [
    "print(X[-5:]) #X의 tail"
   ]
  },
  {
   "cell_type": "markdown",
   "id": "32f3ae39",
   "metadata": {},
   "source": [
    "### (3) model fitting"
   ]
  },
  {
   "cell_type": "code",
   "execution_count": 8,
   "id": "ecd118e7",
   "metadata": {},
   "outputs": [],
   "source": [
    "#LDA\n",
    "lda=LinearDiscriminantAnalysis(n_components=2) #n_components=(number of class-1)\n",
    "res=lda.fit(X,Y).transform(X)"
   ]
  },
  {
   "cell_type": "markdown",
   "id": "2cf0d73d",
   "metadata": {},
   "source": [
    "### (4) Test model"
   ]
  },
  {
   "cell_type": "code",
   "execution_count": 9,
   "id": "a6a5a8ba",
   "metadata": {},
   "outputs": [
    {
     "data": {
      "image/png": "[encoded data removed]",
      "text/plain": [
       "<Figure size 640x480 with 1 Axes>"
      ]
     },
     "metadata": {},
     "output_type": "display_data"
    }
   ],
   "source": [
    "## 1-i. Visualization_y를 가장 잘 분류하는 축 찾기! -> LD1\n",
    "plt.figure()\n",
    "colors=['navy', 'pink', 'darkorange']\n",
    "for color, i, target_name in zip(colors, [0,1,2], target_names):\n",
    "    plt.scatter(res[Y==i,0], res[Y==i,1], alpha=0.8, color=color, label=target_name)\n",
    "\n",
    "    \n",
    "plt.xlabel('LD1')\n",
    "plt.ylabel('LD2')\n",
    "plt.legend(loc='best', shadow=True, scatterpoints=1) #scatterpoints: legend 안의 마커포인트의 수\n",
    "plt.title('LDA of IRIS dataset')\n",
    "plt.show()"
   ]
  },
  {
   "cell_type": "code",
   "execution_count": 32,
   "id": "08c22762",
   "metadata": {},
   "outputs": [
    {
     "name": "stderr",
     "output_type": "stream",
     "text": [
      "C:\\Users\\Kim\\anaconda3\\lib\\site-packages\\sklearn\\utils\\deprecation.py:87: FutureWarning: Function plot_confusion_matrix is deprecated; Function `plot_confusion_matrix` is deprecated in 1.0 and will be removed in 1.2. Use one of the class methods: ConfusionMatrixDisplay.from_predictions or ConfusionMatrixDisplay.from_estimator.\n",
      "  warnings.warn(msg, category=FutureWarning)\n"
     ]
    },
    {
     "data": {
      "image/png": "[encoded data removed]",
      "text/plain": [
       "<Figure size 640x480 with 2 Axes>"
      ]
     },
     "metadata": {},
     "output_type": "display_data"
    }
   ],
   "source": [
    "## 1-ii. Visualization_confusion matrix\n",
    "\n",
    "#import package\n",
    "from sklearn.metrics import confusion_matrix, plot_confusion_matrix\n",
    "\n",
    "#confusion matrix\n",
    "label=['setosa', 'versicolor', 'virginica'] #label 설정\n",
    "plot=plot_confusion_matrix(lda, X, Y, display_labels=label, cmap=plt.cm.Reds, normalize=None)\n",
    "plot.ax_.set_title('Confusion Matrix')\n",
    "plt.show()"
   ]
  },
  {
   "cell_type": "markdown",
   "id": "8fd998dc",
   "metadata": {},
   "source": [
    "### "
   ]
  },
  {
   "cell_type": "code",
   "execution_count": 35,
   "id": "b8d946ab",
   "metadata": {},
   "outputs": [
    {
     "data": {
      "text/plain": [
       "array([[50,  0,  0],\n",
       "       [ 0, 48,  2],\n",
       "       [ 0,  1, 49]], dtype=int64)"
      ]
     },
     "execution_count": 35,
     "metadata": {},
     "output_type": "execute_result"
    }
   ],
   "source": [
    "## 2-i. Confusion matrix_정상출력\n",
    "\n",
    "from sklearn.metrics import confusion_matrix\n",
    "mymtx=confusion_matrix(Y, lda.predict(X))\n",
    "mymtx"
   ]
  },
  {
   "cell_type": "code",
   "execution_count": 36,
   "id": "34bfb873",
   "metadata": {},
   "outputs": [
    {
     "data": {
      "text/html": [
       "<div>\n",
       "<style scoped>\n",
       "    .dataframe tbody tr th:only-of-type {\n",
       "        vertical-align: middle;\n",
       "    }\n",
       "\n",
       "    .dataframe tbody tr th {\n",
       "        vertical-align: top;\n",
       "    }\n",
       "\n",
       "    .dataframe thead th {\n",
       "        text-align: right;\n",
       "    }\n",
       "</style>\n",
       "<table border=\"1\" class=\"dataframe\">\n",
       "  <thead>\n",
       "    <tr style=\"text-align: right;\">\n",
       "      <th></th>\n",
       "      <th>setosa</th>\n",
       "      <th>versicolor</th>\n",
       "      <th>virginica</th>\n",
       "    </tr>\n",
       "  </thead>\n",
       "  <tbody>\n",
       "    <tr>\n",
       "      <th>setosa</th>\n",
       "      <td>50</td>\n",
       "      <td>0</td>\n",
       "      <td>0</td>\n",
       "    </tr>\n",
       "    <tr>\n",
       "      <th>versicolor</th>\n",
       "      <td>0</td>\n",
       "      <td>48</td>\n",
       "      <td>2</td>\n",
       "    </tr>\n",
       "    <tr>\n",
       "      <th>virginica</th>\n",
       "      <td>0</td>\n",
       "      <td>1</td>\n",
       "      <td>49</td>\n",
       "    </tr>\n",
       "  </tbody>\n",
       "</table>\n",
       "</div>"
      ],
      "text/plain": [
       "            setosa  versicolor  virginica\n",
       "setosa          50           0          0\n",
       "versicolor       0          48          2\n",
       "virginica        0           1         49"
      ]
     },
     "execution_count": 36,
     "metadata": {},
     "output_type": "execute_result"
    }
   ],
   "source": [
    "## 2-ii. Confusion matrix_pandas의 dataframe\n",
    "import pandas as pd\n",
    "table=pd.DataFrame(mymtx, columns=label, index=label)\n",
    "table"
   ]
  },
  {
   "cell_type": "markdown",
   "id": "eff99254",
   "metadata": {},
   "source": [
    "> Setosa의 분류 정확도가 높다.\n",
    "\n",
    "- accuracy=1-오분류율\n",
    "- 여기서 오분류율=(1+2)/150=3/150"
   ]
  }
 ],
 "metadata": {
  "kernelspec": {
   "display_name": "Python 3 (ipykernel)",
   "language": "python",
   "name": "python3"
  },
  "language_info": {
   "codemirror_mode": {
    "name": "ipython",
    "version": 3
   },
   "file_extension": ".py",
   "mimetype": "text/x-python",
   "name": "python",
   "nbconvert_exporter": "python",
   "pygments_lexer": "ipython3",
   "version": "3.9.13"
  }
 },
 "nbformat": 4,
 "nbformat_minor": 5
}
