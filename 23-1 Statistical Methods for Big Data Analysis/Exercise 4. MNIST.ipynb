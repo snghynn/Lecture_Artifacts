{
 "cells": [
  {
   "cell_type": "code",
   "execution_count": 1,
   "id": "cd635b1d",
   "metadata": {},
   "outputs": [],
   "source": [
    "# import library\n",
    "import sys\n",
    "import tensorflow as tf\n",
    "from tensorflow.keras import layers\n",
    "import keras\n",
    "from keras.models import Sequential\n",
    "from keras.layers import Dense, Dropout, Flatten\n",
    "from keras.layers.convolutional import Conv2D, MaxPooling2D\n",
    "from tensorflow.keras.utils import to_categorical, plot_model\n",
    "import numpy as np\n",
    "import matplotlib.pyplot as plt"
   ]
  },
  {
   "cell_type": "markdown",
   "id": "ecb00041",
   "metadata": {},
   "source": [
    "## Problem 2. MNIST\n",
    "MNIST dataset은 총 70,000개의 28x28 저해상도 흑백 이미지를 포함하고 있다. 따라서 하나의 이미지는 (28,28,1) 배열의 형태로 정의할 수 있다. 전체 데이터 셋에서 이미지가 속한 클래스는 총 10개로 0부터 9까지의 숫자에 대한 손글씨 이미지이다. 70,000개 중 60,000개는 train과 validation set에, 10,000개는 test set에 포함된다.\n",
    "\n",
    "#### (a) Keras에 내장된 mnist dataset을 불러들인 후 train data와 test data로 분리하시오."
   ]
  },
  {
   "cell_type": "code",
   "execution_count": 2,
   "id": "68912bf7",
   "metadata": {},
   "outputs": [],
   "source": [
    "batch_size = 128\n",
    "num_classes = 10\n",
    "epochs = 12"
   ]
  },
  {
   "cell_type": "code",
   "execution_count": 3,
   "id": "e4278798",
   "metadata": {},
   "outputs": [],
   "source": [
    "(x_train, y_train), (x_test, y_test) = keras.datasets.mnist.load_data()"
   ]
  },
  {
   "cell_type": "code",
   "execution_count": 4,
   "id": "006d797e",
   "metadata": {},
   "outputs": [
    {
     "name": "stdout",
     "output_type": "stream",
     "text": [
      "x_train : (60000, 28, 28)\n",
      "y_train : (60000,)\n",
      "x_test : (10000, 28, 28)\n",
      "y_test : (10000,)\n"
     ]
    }
   ],
   "source": [
    "print(f'x_train : {x_train.shape}') # (데이터 개수, 28 X 28 pixel)\n",
    "print(f'y_train : {y_train.shape}')\n",
    "print(f'x_test : {x_test.shape}')\n",
    "print(f'y_test : {y_test.shape}')"
   ]
  },
  {
   "cell_type": "markdown",
   "id": "c0057eee",
   "metadata": {},
   "source": [
    "#### (b) 이미지를 model에 넣기 위해 각 pixel의 값을 숫자로 변형시키는 전처리 과정을 수행하고, data normalization을 하시오"
   ]
  },
  {
   "cell_type": "code",
   "execution_count": 5,
   "id": "7744b052",
   "metadata": {},
   "outputs": [],
   "source": [
    "img_rows = 28\n",
    "img_cols = 28\n",
    "input_shape = (img_rows, img_cols, 1)\n",
    "# reshaping mnist dataset\n",
    "x_train = x_train.reshape(x_train.shape[0], img_rows, img_cols, 1).astype('float32')\n",
    "x_test = x_test.reshape(x_test.shape[0], img_rows, img_cols, 1).astype('float32')"
   ]
  },
  {
   "cell_type": "code",
   "execution_count": 6,
   "id": "0de4d84a",
   "metadata": {},
   "outputs": [],
   "source": [
    "# data normalization: Scale images to the [0, 1] range\n",
    "x_train /= 255.\n",
    "x_test /= 255."
   ]
  },
  {
   "cell_type": "markdown",
   "id": "120723f2",
   "metadata": {},
   "source": [
    "#### (c) 필요한 변수에 대하여 one-hot encoding을 하시오."
   ]
  },
  {
   "cell_type": "code",
   "execution_count": 7,
   "id": "ac1cc1b3",
   "metadata": {},
   "outputs": [],
   "source": [
    "# convert class vectors to binary class matrices\n",
    "y_train = to_categorical(y_train, num_classes)\n",
    "y_test = to_categorical(y_test, num_classes)"
   ]
  },
  {
   "cell_type": "markdown",
   "id": "1b198c51",
   "metadata": {},
   "source": [
    "#### (d) 딥러닝 모델을 정의할 때 모델의 하이퍼 파라미터는 모델의 성능에 영향을 준다. 따라서, 좋은 성능의 모델을 찾기 위해선 은닉층의 개수, 층마다 있는 뉴런의 개수, 각 층에서 사용하는 활성화 함수, 가중치 초기화, 에포트, 배치 사이즈 등 다양한 하이퍼 파라미터에 변화를 주며 최적의 조합을 찾아내야 한다. Keras를 이용하여 모델을 정의하도록 하며, 위에서 언급한 하이퍼 파라미터의 설정에 변화를 주어 각각 다른 5개의 모델을 정의하시오. 이때, 모든 모델은 pooling layer를 반드시 포함하며, 적어도 하나의 모델은 drop out을 하이퍼 파라미터로 설정하시오. (모델에 대한 코드를 반드시 첨부할 것.)\n"
   ]
  },
  {
   "cell_type": "code",
   "execution_count": 8,
   "id": "86ea3bdc",
   "metadata": {},
   "outputs": [
    {
     "name": "stdout",
     "output_type": "stream",
     "text": [
      "Model: \"sequential\"\n",
      "_________________________________________________________________\n",
      " Layer (type)                Output Shape              Param #   \n",
      "=================================================================\n",
      " conv2d (Conv2D)             (None, 24, 24, 32)        832       \n",
      "                                                                 \n",
      " max_pooling2d (MaxPooling2D  (None, 12, 12, 32)       0         \n",
      " )                                                               \n",
      "                                                                 \n",
      " conv2d_1 (Conv2D)           (None, 11, 11, 64)        8256      \n",
      "                                                                 \n",
      " max_pooling2d_1 (MaxPooling  (None, 5, 5, 64)         0         \n",
      " 2D)                                                             \n",
      "                                                                 \n",
      " flatten (Flatten)           (None, 1600)              0         \n",
      "                                                                 \n",
      " dropout (Dropout)           (None, 1600)              0         \n",
      "                                                                 \n",
      " dense (Dense)               (None, 10)                16010     \n",
      "                                                                 \n",
      "=================================================================\n",
      "Total params: 25,098\n",
      "Trainable params: 25,098\n",
      "Non-trainable params: 0\n",
      "_________________________________________________________________\n"
     ]
    }
   ],
   "source": [
    "## convolutional nueral network \n",
    "\n",
    "# model1\n",
    "model1 = keras.Sequential([\n",
    "    layers.Conv2D(32, kernel_size = (5, 5), strides = 1, activation = 'relu', \n",
    "                  input_shape = input_shape),\n",
    "    layers.MaxPooling2D(pool_size = (2, 2), strides = 2),\n",
    "    layers.Conv2D(64, kernel_size = (2, 2), activation = 'relu'),\n",
    "    layers.MaxPooling2D(pool_size = (2, 2), strides = 2),\n",
    "    layers.Flatten(),\n",
    "    layers.Dropout(0.5),\n",
    "    layers.Dense(num_classes, activation = 'softmax')\n",
    "])\n",
    "\n",
    "model1.summary()"
   ]
  },
  {
   "cell_type": "code",
   "execution_count": 9,
   "id": "fa246174",
   "metadata": {},
   "outputs": [
    {
     "name": "stdout",
     "output_type": "stream",
     "text": [
      "Epoch 1/10\n",
      "469/469 [==============================] - 36s 73ms/step - loss: 0.3550 - accuracy: 0.8909 - val_loss: 0.0905 - val_accuracy: 0.9721\n",
      "Epoch 2/10\n",
      "469/469 [==============================] - 35s 74ms/step - loss: 0.1113 - accuracy: 0.9664 - val_loss: 0.0597 - val_accuracy: 0.9802\n",
      "Epoch 3/10\n",
      "469/469 [==============================] - 33s 71ms/step - loss: 0.0843 - accuracy: 0.9738 - val_loss: 0.0457 - val_accuracy: 0.9848\n",
      "Epoch 4/10\n",
      "469/469 [==============================] - 34s 73ms/step - loss: 0.0697 - accuracy: 0.9794 - val_loss: 0.0390 - val_accuracy: 0.9881\n",
      "Epoch 5/10\n",
      "469/469 [==============================] - 34s 73ms/step - loss: 0.0640 - accuracy: 0.9804 - val_loss: 0.0349 - val_accuracy: 0.9894\n",
      "Epoch 6/10\n",
      "469/469 [==============================] - 35s 74ms/step - loss: 0.0575 - accuracy: 0.9820 - val_loss: 0.0334 - val_accuracy: 0.9887\n",
      "Epoch 7/10\n",
      "469/469 [==============================] - 35s 75ms/step - loss: 0.0538 - accuracy: 0.9834 - val_loss: 0.0278 - val_accuracy: 0.9909\n",
      "Epoch 8/10\n",
      "469/469 [==============================] - 34s 72ms/step - loss: 0.0492 - accuracy: 0.9842 - val_loss: 0.0291 - val_accuracy: 0.9912\n",
      "Epoch 9/10\n",
      "469/469 [==============================] - 34s 73ms/step - loss: 0.0468 - accuracy: 0.9853 - val_loss: 0.0294 - val_accuracy: 0.9906\n",
      "Epoch 10/10\n",
      "469/469 [==============================] - 34s 73ms/step - loss: 0.0452 - accuracy: 0.9858 - val_loss: 0.0273 - val_accuracy: 0.9913\n",
      "Test loss: 0.027\n",
      "Test accuracy: 0.991\n"
     ]
    }
   ],
   "source": [
    "# model1\n",
    "model1.compile(loss='categorical_crossentropy', optimizer='adam',\n",
    "               metrics=['accuracy'])\n",
    "hist = model1.fit(x_train, y_train, batch_size=128, epochs=10, \n",
    "                  verbose=1, validation_data=(x_test, y_test)) # epochs 조정\n",
    "score = model1.evaluate(x_test, y_test, verbose=0)\n",
    "print('Test loss:', round(score[0],3))\n",
    "print('Test accuracy:', round(score[1],3))"
   ]
  },
  {
   "cell_type": "code",
   "execution_count": 11,
   "id": "03144d78",
   "metadata": {},
   "outputs": [
    {
     "name": "stdout",
     "output_type": "stream",
     "text": [
      "Model: \"sequential_1\"\n",
      "_________________________________________________________________\n",
      " Layer (type)                Output Shape              Param #   \n",
      "=================================================================\n",
      " conv2d_2 (Conv2D)           (None, 24, 24, 32)        832       \n",
      "                                                                 \n",
      " max_pooling2d_2 (MaxPooling  (None, 12, 12, 32)       0         \n",
      " 2D)                                                             \n",
      "                                                                 \n",
      " conv2d_3 (Conv2D)           (None, 11, 11, 64)        8256      \n",
      "                                                                 \n",
      " max_pooling2d_3 (MaxPooling  (None, 5, 5, 64)         0         \n",
      " 2D)                                                             \n",
      "                                                                 \n",
      " flatten_1 (Flatten)         (None, 1600)              0         \n",
      "                                                                 \n",
      " dense_1 (Dense)             (None, 10)                16010     \n",
      "                                                                 \n",
      "=================================================================\n",
      "Total params: 25,098\n",
      "Trainable params: 25,098\n",
      "Non-trainable params: 0\n",
      "_________________________________________________________________\n"
     ]
    }
   ],
   "source": [
    "# model2\n",
    "model2 = keras.Sequential([\n",
    "    layers.Conv2D(32, kernel_size = (5, 5), strides = 1, activation = 'relu', \n",
    "                  input_shape = input_shape),\n",
    "    layers.MaxPooling2D(pool_size = (2, 2), strides = 2),\n",
    "    layers.Conv2D(64, kernel_size = (2, 2), activation = 'relu'),\n",
    "    layers.MaxPooling2D(pool_size = (2, 2), strides = 2),\n",
    "    layers.Flatten(),\n",
    "    layers.Dense(num_classes, activation = 'softmax')\n",
    "])\n",
    "\n",
    "model2.summary()"
   ]
  },
  {
   "cell_type": "code",
   "execution_count": 13,
   "id": "cacf624c",
   "metadata": {},
   "outputs": [
    {
     "name": "stdout",
     "output_type": "stream",
     "text": [
      "Epoch 1/5\n",
      "469/469 [==============================] - 34s 69ms/step - loss: 0.0647 - accuracy: 0.9802 - val_loss: 0.0514 - val_accuracy: 0.9834\n",
      "Epoch 2/5\n",
      "469/469 [==============================] - 33s 70ms/step - loss: 0.0488 - accuracy: 0.9855 - val_loss: 0.0377 - val_accuracy: 0.9873\n",
      "Epoch 3/5\n",
      "469/469 [==============================] - 33s 69ms/step - loss: 0.0406 - accuracy: 0.9876 - val_loss: 0.0332 - val_accuracy: 0.9889\n",
      "Epoch 4/5\n",
      "469/469 [==============================] - 33s 70ms/step - loss: 0.0345 - accuracy: 0.9891 - val_loss: 0.0336 - val_accuracy: 0.9888\n",
      "Epoch 5/5\n",
      "469/469 [==============================] - 32s 69ms/step - loss: 0.0305 - accuracy: 0.9906 - val_loss: 0.0356 - val_accuracy: 0.9878\n",
      "Test loss: 0.036\n",
      "Test accuracy: 0.988\n"
     ]
    }
   ],
   "source": [
    "model2.compile(loss='categorical_crossentropy', optimizer='adam', \n",
    "               metrics=['accuracy'])\n",
    "hist = model2.fit(x_train, y_train, batch_size=128, epochs=5, \n",
    "                  verbose=1, validation_data=(x_test, y_test)) # epochs 조정\n",
    "score = model2.evaluate(x_test, y_test, verbose=0)\n",
    "print('Test loss:', round(score[0],3))\n",
    "print('Test accuracy:', round(score[1],3))"
   ]
  },
  {
   "cell_type": "code",
   "execution_count": 16,
   "id": "a56811a9",
   "metadata": {},
   "outputs": [
    {
     "name": "stdout",
     "output_type": "stream",
     "text": [
      "Model: \"sequential_2\"\n",
      "_________________________________________________________________\n",
      " Layer (type)                Output Shape              Param #   \n",
      "=================================================================\n",
      " conv2d_4 (Conv2D)           (None, 24, 24, 12)        312       \n",
      "                                                                 \n",
      " max_pooling2d_4 (MaxPooling  (None, 12, 12, 12)       0         \n",
      " 2D)                                                             \n",
      "                                                                 \n",
      " conv2d_5 (Conv2D)           (None, 11, 11, 24)        1176      \n",
      "                                                                 \n",
      " max_pooling2d_5 (MaxPooling  (None, 5, 5, 24)         0         \n",
      " 2D)                                                             \n",
      "                                                                 \n",
      " flatten_2 (Flatten)         (None, 600)               0         \n",
      "                                                                 \n",
      " dropout_1 (Dropout)         (None, 600)               0         \n",
      "                                                                 \n",
      " dense_2 (Dense)             (None, 10)                6010      \n",
      "                                                                 \n",
      "=================================================================\n",
      "Total params: 7,498\n",
      "Trainable params: 7,498\n",
      "Non-trainable params: 0\n",
      "_________________________________________________________________\n"
     ]
    }
   ],
   "source": [
    "# model3\n",
    "model3 = keras.Sequential([\n",
    "    layers.Conv2D(12, kernel_size = (5, 5), strides = 1, \n",
    "                  activation = 'relu', input_shape = input_shape),\n",
    "    layers.MaxPooling2D(pool_size = (2, 2), strides = 2),\n",
    "    layers.Conv2D(24, kernel_size = (2, 2), activation = 'relu'),\n",
    "    layers.MaxPooling2D(pool_size = (2, 2), strides = 2),\n",
    "    layers.Flatten(),\n",
    "    layers.Dropout(0.5),\n",
    "    layers.Dense(num_classes, activation = 'softmax')\n",
    "])\n",
    "\n",
    "model3.summary()"
   ]
  },
  {
   "cell_type": "code",
   "execution_count": 17,
   "id": "1052681c",
   "metadata": {},
   "outputs": [
    {
     "name": "stdout",
     "output_type": "stream",
     "text": [
      "Epoch 1/3\n",
      "938/938 [==============================] - 28s 28ms/step - loss: 0.4035 - accuracy: 0.8744 - val_loss: 0.0981 - val_accuracy: 0.9733\n",
      "Epoch 2/3\n",
      "938/938 [==============================] - 25s 27ms/step - loss: 0.1408 - accuracy: 0.9578 - val_loss: 0.0687 - val_accuracy: 0.9791\n",
      "Epoch 3/3\n",
      "938/938 [==============================] - 25s 27ms/step - loss: 0.1131 - accuracy: 0.9654 - val_loss: 0.0565 - val_accuracy: 0.9815\n",
      "Test loss: 0.056\n",
      "Test accuracy: 0.982\n"
     ]
    }
   ],
   "source": [
    "model3.compile(loss='categorical_crossentropy', optimizer='adam', \n",
    "               metrics=['accuracy'])\n",
    "hist = model3.fit(x_train, y_train, batch_size=64, epochs=3, \n",
    "                  verbose=1, validation_data=(x_test, y_test)) # epochs 조정\n",
    "score = model3.evaluate(x_test, y_test, verbose=0)\n",
    "print('Test loss:', round(score[0],3))\n",
    "print('Test accuracy:', round(score[1],3))"
   ]
  },
  {
   "cell_type": "code",
   "execution_count": 19,
   "id": "c07b3aeb",
   "metadata": {},
   "outputs": [
    {
     "name": "stdout",
     "output_type": "stream",
     "text": [
      "Model: \"sequential_3\"\n",
      "_________________________________________________________________\n",
      " Layer (type)                Output Shape              Param #   \n",
      "=================================================================\n",
      " conv2d_6 (Conv2D)           (None, 27, 27, 36)        180       \n",
      "                                                                 \n",
      " max_pooling2d_6 (MaxPooling  (None, 12, 12, 36)       0         \n",
      " 2D)                                                             \n",
      "                                                                 \n",
      " conv2d_7 (Conv2D)           (None, 11, 11, 72)        10440     \n",
      "                                                                 \n",
      " max_pooling2d_7 (MaxPooling  (None, 5, 5, 72)         0         \n",
      " 2D)                                                             \n",
      "                                                                 \n",
      " flatten_3 (Flatten)         (None, 1800)              0         \n",
      "                                                                 \n",
      " dropout_2 (Dropout)         (None, 1800)              0         \n",
      "                                                                 \n",
      " dense_3 (Dense)             (None, 10)                18010     \n",
      "                                                                 \n",
      "=================================================================\n",
      "Total params: 28,630\n",
      "Trainable params: 28,630\n",
      "Non-trainable params: 0\n",
      "_________________________________________________________________\n"
     ]
    }
   ],
   "source": [
    "# model4\n",
    "model4 = keras.Sequential([\n",
    "    layers.Conv2D(36, kernel_size = (2, 2), strides = 1, \n",
    "                  activation = 'relu', input_shape = input_shape),\n",
    "    layers.MaxPooling2D(pool_size = (4, 4), strides = 2),\n",
    "    layers.Conv2D(72, kernel_size = (2, 2), activation = 'relu'),\n",
    "    layers.MaxPooling2D(pool_size = (2, 2), strides = 2),\n",
    "    layers.Flatten(),\n",
    "    layers.Dropout(0.5),\n",
    "    layers.Dense(num_classes, activation = 'softmax')\n",
    "])\n",
    "\n",
    "model4.summary()"
   ]
  },
  {
   "cell_type": "code",
   "execution_count": 23,
   "id": "183bc000",
   "metadata": {},
   "outputs": [
    {
     "name": "stdout",
     "output_type": "stream",
     "text": [
      "Epoch 1/3\n",
      "235/235 [==============================] - 39s 158ms/step - loss: 0.0723 - accuracy: 0.9774 - val_loss: 0.0467 - val_accuracy: 0.9856\n",
      "Epoch 2/3\n",
      "235/235 [==============================] - 38s 161ms/step - loss: 0.0656 - accuracy: 0.9791 - val_loss: 0.0440 - val_accuracy: 0.9869\n",
      "Epoch 3/3\n",
      "235/235 [==============================] - 35s 147ms/step - loss: 0.0625 - accuracy: 0.9802 - val_loss: 0.0425 - val_accuracy: 0.9856\n",
      "Test loss: 0.042\n",
      "Test accuracy: 0.986\n"
     ]
    }
   ],
   "source": [
    "model4.compile(loss='categorical_crossentropy', optimizer='adam', \n",
    "               metrics=['accuracy'])\n",
    "hist = model4.fit(x_train, y_train, batch_size=256, epochs=3, \n",
    "                  verbose=1, validation_data=(x_test, y_test)) # epochs 조정\n",
    "score = model4.evaluate(x_test, y_test, verbose=0)\n",
    "print('Test loss:', round(score[0],3))\n",
    "print('Test accuracy:', round(score[1],3))"
   ]
  },
  {
   "cell_type": "code",
   "execution_count": 25,
   "id": "bbcfdf81",
   "metadata": {},
   "outputs": [
    {
     "name": "stdout",
     "output_type": "stream",
     "text": [
      "Model: \"sequential_4\"\n",
      "_________________________________________________________________\n",
      " Layer (type)                Output Shape              Param #   \n",
      "=================================================================\n",
      " conv2d_8 (Conv2D)           (None, 27, 27, 32)        160       \n",
      "                                                                 \n",
      " max_pooling2d_8 (MaxPooling  (None, 12, 12, 32)       0         \n",
      " 2D)                                                             \n",
      "                                                                 \n",
      " conv2d_9 (Conv2D)           (None, 11, 11, 64)        8256      \n",
      "                                                                 \n",
      " max_pooling2d_9 (MaxPooling  (None, 5, 5, 64)         0         \n",
      " 2D)                                                             \n",
      "                                                                 \n",
      " flatten_4 (Flatten)         (None, 1600)              0         \n",
      "                                                                 \n",
      " dropout_3 (Dropout)         (None, 1600)              0         \n",
      "                                                                 \n",
      " dense_4 (Dense)             (None, 10)                16010     \n",
      "                                                                 \n",
      "=================================================================\n",
      "Total params: 24,426\n",
      "Trainable params: 24,426\n",
      "Non-trainable params: 0\n",
      "_________________________________________________________________\n"
     ]
    }
   ],
   "source": [
    "# model5\n",
    "model5 = keras.Sequential([\n",
    "    layers.Conv2D(32, kernel_size = (2, 2), strides = 1, \n",
    "                  activation = 'sigmoid', input_shape = input_shape),\n",
    "    layers.MaxPooling2D(pool_size = (4, 4), strides = 2),\n",
    "    layers.Conv2D(64, kernel_size = (2, 2), activation = 'sigmoid'),\n",
    "    layers.MaxPooling2D(pool_size = (2, 2), strides = 2),\n",
    "    layers.Flatten(),\n",
    "    layers.Dropout(0.5),\n",
    "    layers.Dense(num_classes, activation = 'softmax')\n",
    "])\n",
    "\n",
    "model5.summary()"
   ]
  },
  {
   "cell_type": "code",
   "execution_count": 26,
   "id": "b0d22273",
   "metadata": {},
   "outputs": [
    {
     "name": "stdout",
     "output_type": "stream",
     "text": [
      "Epoch 1/3\n",
      "469/469 [==============================] - 42s 86ms/step - loss: 1.8241 - accuracy: 0.3701 - val_loss: 0.6234 - val_accuracy: 0.8105\n",
      "Epoch 2/3\n",
      "469/469 [==============================] - 40s 86ms/step - loss: 0.6093 - accuracy: 0.8031 - val_loss: 0.4346 - val_accuracy: 0.8671\n",
      "Epoch 3/3\n",
      "469/469 [==============================] - 40s 85ms/step - loss: 0.4891 - accuracy: 0.8459 - val_loss: 0.3608 - val_accuracy: 0.8924\n",
      "Test loss: 0.361\n",
      "Test accuracy: 0.892\n"
     ]
    }
   ],
   "source": [
    "model5.compile(loss='categorical_crossentropy', optimizer='adam',\n",
    "               metrics=['accuracy'])\n",
    "hist = model5.fit(x_train, y_train, batch_size=128, epochs=3, \n",
    "                  verbose=1, validation_data=(x_test, y_test)) # epochs 조정\n",
    "score = model5.evaluate(x_test, y_test, verbose=0)\n",
    "print('Test loss:', round(score[0],3))\n",
    "print('Test accuracy:', round(score[1],3))"
   ]
  },
  {
   "cell_type": "markdown",
   "id": "cdafdbb2",
   "metadata": {},
   "source": [
    "#### (e) (d)의 결과에 대하여 모델별로 confution matrix를 구하시오. 어떤 모델의 성능이 가장 좋은가?\n",
    "\n",
    ": 오분류율이 가장 낮고, 정확도가 0.991로 가장 높은 model1의 성능이 가장 좋다. "
   ]
  },
  {
   "cell_type": "code",
   "execution_count": 10,
   "id": "c681205b",
   "metadata": {
    "scrolled": false
   },
   "outputs": [
    {
     "name": "stdout",
     "output_type": "stream",
     "text": [
      "313/313 [==============================] - 3s 9ms/step\n",
      "[[ 977    0    0    0    0    0    1    1    1    0]\n",
      " [   0 1131    3    0    0    0    0    1    0    0]\n",
      " [   1    2 1021    0    2    0    1    3    2    0]\n",
      " [   0    0    3 1002    0    3    0    1    1    0]\n",
      " [   0    0    0    0  975    0    1    0    1    5]\n",
      " [   2    0    0    3    0  886    1    0    0    0]\n",
      " [   3    2    0    0    1    2  950    0    0    0]\n",
      " [   0    1    9    0    0    1    0 1014    1    2]\n",
      " [   2    0    2    0    1    1    0    0  967    1]\n",
      " [   2    1    0    0    4    5    0    4    3  990]]\n"
     ]
    }
   ],
   "source": [
    "from sklearn.metrics import confusion_matrix\n",
    "\n",
    "# model1\n",
    "y_pred=model1.predict(x_test)\n",
    "ypred_class=np.argmax(y_pred,axis=1)\n",
    "ytest_class=np.argmax(y_test,axis=1)\n",
    "\n",
    "conf_mat=confusion_matrix(ytest_class,ypred_class)\n",
    "print(conf_mat)"
   ]
  },
  {
   "cell_type": "code",
   "execution_count": 14,
   "id": "41525915",
   "metadata": {},
   "outputs": [
    {
     "name": "stdout",
     "output_type": "stream",
     "text": [
      "313/313 [==============================] - 3s 9ms/step\n",
      "[[ 967    0    1    0    2    0    4    2    3    1]\n",
      " [   0 1129    1    2    1    0    1    1    0    0]\n",
      " [   1    3 1000    9    3    0    1    8    7    0]\n",
      " [   0    0    0 1010    0    0    0    0    0    0]\n",
      " [   0    0    0    0  979    0    1    0    0    2]\n",
      " [   1    0    0   17    0  869    1    2    1    1]\n",
      " [   1    2    0    0    3    1  949    0    2    0]\n",
      " [   0    2    1    3    2    0    0 1019    1    0]\n",
      " [   2    0    1    1    1    1    0    2  963    3]\n",
      " [   0    0    0    0    7    2    0    7    0  993]]\n"
     ]
    }
   ],
   "source": [
    "# model2\n",
    "y_pred=model2.predict(x_test)\n",
    "ypred_class=np.argmax(y_pred,axis=1)\n",
    "ytest_class=np.argmax(y_test,axis=1)\n",
    "\n",
    "conf_mat=confusion_matrix(ytest_class,ypred_class)\n",
    "print(conf_mat)"
   ]
  },
  {
   "cell_type": "code",
   "execution_count": 18,
   "id": "e9e640f0",
   "metadata": {},
   "outputs": [
    {
     "name": "stdout",
     "output_type": "stream",
     "text": [
      "313/313 [==============================] - 2s 7ms/step\n",
      "[[ 977    0    0    0    0    0    0    1    2    0]\n",
      " [   0 1127    3    2    1    0    0    0    2    0]\n",
      " [   3    5 1007    1    2    0    0    9    5    0]\n",
      " [   1    0    2  990    0    8    0    7    2    0]\n",
      " [   1    2    1    0  973    0    1    1    1    2]\n",
      " [   2    1    0    2    0  885    1    1    0    0]\n",
      " [  10    4    0    0    2    5  934    0    3    0]\n",
      " [   1    5   12    1    0    1    0  998    3    7]\n",
      " [   5    2    2    1    2    3    2    4  943   10]\n",
      " [   1    5    0    1    7    3    0    6    5  981]]\n"
     ]
    }
   ],
   "source": [
    "# model3\n",
    "y_pred=model3.predict(x_test)\n",
    "ypred_class=np.argmax(y_pred,axis=1)\n",
    "ytest_class=np.argmax(y_test,axis=1)\n",
    "\n",
    "conf_mat=confusion_matrix(ytest_class,ypred_class)\n",
    "print(conf_mat)"
   ]
  },
  {
   "cell_type": "code",
   "execution_count": 24,
   "id": "b5a3d150",
   "metadata": {},
   "outputs": [
    {
     "name": "stdout",
     "output_type": "stream",
     "text": [
      "313/313 [==============================] - 3s 9ms/step\n",
      "[[ 974    0    2    0    0    1    1    1    1    0]\n",
      " [   0 1131    1    1    0    0    1    0    1    0]\n",
      " [   3    0 1021    0    1    0    1    6    0    0]\n",
      " [   1    0    3  992    0    8    0    4    2    0]\n",
      " [   1    1    0    0  976    0    0    1    1    2]\n",
      " [   2    0    1    3    0  882    1    1    2    0]\n",
      " [   6    2    0    0    1    4  944    0    1    0]\n",
      " [   0    3   11    1    0    0    0 1007    3    3]\n",
      " [   6    0    2    1    2    2    0    3  954    4]\n",
      " [   4    4    1    1    9    6    0    5    4  975]]\n"
     ]
    }
   ],
   "source": [
    "# model4\n",
    "y_pred=model4.predict(x_test)\n",
    "ypred_class=np.argmax(y_pred,axis=1)\n",
    "ytest_class=np.argmax(y_test,axis=1)\n",
    "\n",
    "conf_mat=confusion_matrix(ytest_class,ypred_class)\n",
    "print(conf_mat)"
   ]
  },
  {
   "cell_type": "code",
   "execution_count": 27,
   "id": "b8a4423c",
   "metadata": {},
   "outputs": [
    {
     "name": "stdout",
     "output_type": "stream",
     "text": [
      "313/313 [==============================] - 3s 9ms/step\n",
      "[[ 952    0    1    3    1    4    5    3   10    1]\n",
      " [   0 1110    2    3    0    0    6    0   14    0]\n",
      " [  21   14  878    8   16    4   20   27   36    8]\n",
      " [  12    6   29  856    0   24    3   17   52   11]\n",
      " [   6    3    8    1  864    5   21   11    4   59]\n",
      " [  15    7    6   44    9  748   24    5   28    6]\n",
      " [   6    6    3    0    4   16  916    3    3    1]\n",
      " [   0   21   28    6   11    2    1  886    6   67]\n",
      " [  17    9   16   22    4   22   16   10  840   18]\n",
      " [  12   10    6   13   35    5    0   40   14  874]]\n"
     ]
    }
   ],
   "source": [
    "# model5\n",
    "y_pred=model5.predict(x_test)\n",
    "ypred_class=np.argmax(y_pred,axis=1)\n",
    "ytest_class=np.argmax(y_test,axis=1)\n",
    "\n",
    "conf_mat=confusion_matrix(ytest_class,ypred_class)\n",
    "print(conf_mat)"
   ]
  },
  {
   "cell_type": "markdown",
   "id": "05693525",
   "metadata": {},
   "source": [
    "#### (f) (d)에서 정의한 모델 중 하나를 선택하여 callback option을 설정하여 학습을 진행할 것이다. epoch=100, batch_size=32으로 설정한 후, Call back option을 사용하여 model의 accuracy가 20번 동안 좋아지지 않으면 학습을 멈추도록 설정하시오. 또한, training history를 시각화하여 plot을 첨부하시오"
   ]
  },
  {
   "cell_type": "code",
   "execution_count": 28,
   "id": "f9087c13",
   "metadata": {},
   "outputs": [
    {
     "name": "stdout",
     "output_type": "stream",
     "text": [
      "Model: \"sequential_5\"\n",
      "_________________________________________________________________\n",
      " Layer (type)                Output Shape              Param #   \n",
      "=================================================================\n",
      " conv2d_10 (Conv2D)          (None, 24, 24, 32)        832       \n",
      "                                                                 \n",
      " max_pooling2d_10 (MaxPoolin  (None, 12, 12, 32)       0         \n",
      " g2D)                                                            \n",
      "                                                                 \n",
      " conv2d_11 (Conv2D)          (None, 11, 11, 64)        8256      \n",
      "                                                                 \n",
      " max_pooling2d_11 (MaxPoolin  (None, 5, 5, 64)         0         \n",
      " g2D)                                                            \n",
      "                                                                 \n",
      " flatten_5 (Flatten)         (None, 1600)              0         \n",
      "                                                                 \n",
      " dropout_4 (Dropout)         (None, 1600)              0         \n",
      "                                                                 \n",
      " dense_5 (Dense)             (None, 10)                16010     \n",
      "                                                                 \n",
      "=================================================================\n",
      "Total params: 25,098\n",
      "Trainable params: 25,098\n",
      "Non-trainable params: 0\n",
      "_________________________________________________________________\n"
     ]
    }
   ],
   "source": [
    "# model1\n",
    "model1 = keras.Sequential([\n",
    "    layers.Conv2D(32, kernel_size = (5, 5), strides = 1, \n",
    "                  activation = 'relu', input_shape = input_shape),\n",
    "    layers.MaxPooling2D(pool_size = (2, 2), strides = 2),\n",
    "    layers.Conv2D(64, kernel_size = (2, 2), activation = 'relu'),\n",
    "    layers.MaxPooling2D(pool_size = (2, 2), strides = 2),\n",
    "    layers.Flatten(),\n",
    "    layers.Dropout(0.5),\n",
    "    layers.Dense(num_classes, activation = 'softmax')\n",
    "])\n",
    "\n",
    "model1.summary()"
   ]
  },
  {
   "cell_type": "code",
   "execution_count": 31,
   "id": "756eba2b",
   "metadata": {},
   "outputs": [],
   "source": [
    "# setting callback option\n",
    "from tensorflow.keras.callbacks import EarlyStopping, ModelCheckpoint\n",
    "es = EarlyStopping(monitor = \"val_accuracy\", patience = 20)\n",
    "mc = ModelCheckpoint(\"./model/checkpoint.{epoch:02d}.hdf5\", \n",
    "                     monitor = \"val_accuracy\")\n",
    "# plot diagnostic learning curves\n",
    "def summarize_diagnostics(history):\n",
    " plt.subplots(figsize = (15,6))\n",
    " plt.subplots_adjust(left=0.1, bottom=0.1, right=0.99, \n",
    "                     top=0.9, wspace=0.3, hspace=0.2)\n",
    " \n",
    " # plot loss\n",
    " plt.subplot(121)\n",
    " plt.title('Cross Entropy Loss')\n",
    " plt.plot(history.history['loss'], color='blue', label='train')\n",
    " plt.plot(history.history['val_loss'], color='orange', label='test')\n",
    " plt.legend()\n",
    " \n",
    " # plot accuracy\n",
    " plt.subplot(122)\n",
    " plt.title('Classification Accuracy')\n",
    " plt.plot(history.history['accuracy'], color='blue', label='train')\n",
    " plt.plot(history.history['val_accuracy'], color='orange', label='test')\n",
    " plt.legend()\n"
   ]
  },
  {
   "cell_type": "code",
   "execution_count": 33,
   "id": "5bbb94fa",
   "metadata": {
    "scrolled": true
   },
   "outputs": [
    {
     "name": "stdout",
     "output_type": "stream",
     "text": [
      "Epoch 1/100\n",
      "1875/1875 [==============================] - 44s 23ms/step - loss: 0.0399 - accuracy: 0.9874 - val_loss: 0.0278 - val_accuracy: 0.9902\n",
      "Epoch 2/100\n",
      "1875/1875 [==============================] - 43s 23ms/step - loss: 0.0378 - accuracy: 0.9879 - val_loss: 0.0249 - val_accuracy: 0.9925\n",
      "Epoch 3/100\n",
      "1875/1875 [==============================] - 44s 23ms/step - loss: 0.0348 - accuracy: 0.9891 - val_loss: 0.0253 - val_accuracy: 0.9912\n",
      "Epoch 4/100\n",
      "1875/1875 [==============================] - 44s 24ms/step - loss: 0.0338 - accuracy: 0.9893 - val_loss: 0.0225 - val_accuracy: 0.9922\n",
      "Epoch 5/100\n",
      "1875/1875 [==============================] - 43s 23ms/step - loss: 0.0329 - accuracy: 0.9892 - val_loss: 0.0274 - val_accuracy: 0.9914\n",
      "Epoch 6/100\n",
      "1875/1875 [==============================] - 46s 24ms/step - loss: 0.0303 - accuracy: 0.9901 - val_loss: 0.0258 - val_accuracy: 0.9914\n",
      "Epoch 7/100\n",
      "1875/1875 [==============================] - 44s 23ms/step - loss: 0.0301 - accuracy: 0.9901 - val_loss: 0.0232 - val_accuracy: 0.9919\n",
      "Epoch 8/100\n",
      "1875/1875 [==============================] - 44s 24ms/step - loss: 0.0292 - accuracy: 0.9908 - val_loss: 0.0244 - val_accuracy: 0.9922\n",
      "Epoch 9/100\n",
      "1875/1875 [==============================] - 46s 24ms/step - loss: 0.0276 - accuracy: 0.9909 - val_loss: 0.0228 - val_accuracy: 0.9927\n",
      "Epoch 10/100\n",
      "1875/1875 [==============================] - 44s 23ms/step - loss: 0.0252 - accuracy: 0.9918 - val_loss: 0.0304 - val_accuracy: 0.9910\n",
      "Epoch 11/100\n",
      "1875/1875 [==============================] - 44s 24ms/step - loss: 0.0262 - accuracy: 0.9912 - val_loss: 0.0277 - val_accuracy: 0.9918\n",
      "Epoch 12/100\n",
      "1875/1875 [==============================] - 44s 24ms/step - loss: 0.0270 - accuracy: 0.9911 - val_loss: 0.0236 - val_accuracy: 0.9927\n",
      "Epoch 13/100\n",
      "1875/1875 [==============================] - 45s 24ms/step - loss: 0.0265 - accuracy: 0.9912 - val_loss: 0.0238 - val_accuracy: 0.9925\n",
      "Epoch 14/100\n",
      "1875/1875 [==============================] - 45s 24ms/step - loss: 0.0245 - accuracy: 0.9921 - val_loss: 0.0249 - val_accuracy: 0.9915\n",
      "Epoch 15/100\n",
      "1875/1875 [==============================] - 45s 24ms/step - loss: 0.0251 - accuracy: 0.9919 - val_loss: 0.0217 - val_accuracy: 0.9926\n",
      "Epoch 16/100\n",
      "1875/1875 [==============================] - 45s 24ms/step - loss: 0.0238 - accuracy: 0.9923 - val_loss: 0.0240 - val_accuracy: 0.9923\n",
      "Epoch 17/100\n",
      "1875/1875 [==============================] - 267s 143ms/step - loss: 0.0225 - accuracy: 0.9924 - val_loss: 0.0251 - val_accuracy: 0.9930\n",
      "Epoch 18/100\n",
      "1875/1875 [==============================] - 44s 23ms/step - loss: 0.0223 - accuracy: 0.9925 - val_loss: 0.0285 - val_accuracy: 0.9920\n",
      "Epoch 19/100\n",
      "1875/1875 [==============================] - 45s 24ms/step - loss: 0.0211 - accuracy: 0.9929 - val_loss: 0.0261 - val_accuracy: 0.9932\n",
      "Epoch 20/100\n",
      "1875/1875 [==============================] - 45s 24ms/step - loss: 0.0226 - accuracy: 0.9923 - val_loss: 0.0240 - val_accuracy: 0.9922\n",
      "Epoch 21/100\n",
      "1875/1875 [==============================] - 45s 24ms/step - loss: 0.0224 - accuracy: 0.9924 - val_loss: 0.0258 - val_accuracy: 0.9915\n",
      "Epoch 22/100\n",
      "1875/1875 [==============================] - 49s 26ms/step - loss: 0.0198 - accuracy: 0.9934 - val_loss: 0.0246 - val_accuracy: 0.9929\n",
      "Epoch 23/100\n",
      "1875/1875 [==============================] - 49s 26ms/step - loss: 0.0193 - accuracy: 0.9933 - val_loss: 0.0256 - val_accuracy: 0.9927\n",
      "Epoch 24/100\n",
      "1875/1875 [==============================] - 46s 24ms/step - loss: 0.0216 - accuracy: 0.9925 - val_loss: 0.0252 - val_accuracy: 0.9930\n",
      "Epoch 25/100\n",
      "1875/1875 [==============================] - 44s 24ms/step - loss: 0.0211 - accuracy: 0.9934 - val_loss: 0.0246 - val_accuracy: 0.9930\n",
      "Epoch 26/100\n",
      "1875/1875 [==============================] - 45s 24ms/step - loss: 0.0203 - accuracy: 0.9929 - val_loss: 0.0295 - val_accuracy: 0.9926\n",
      "Epoch 27/100\n",
      "1875/1875 [==============================] - 45s 24ms/step - loss: 0.0197 - accuracy: 0.9930 - val_loss: 0.0278 - val_accuracy: 0.9920\n",
      "Epoch 28/100\n",
      "1875/1875 [==============================] - 44s 24ms/step - loss: 0.0183 - accuracy: 0.9937 - val_loss: 0.0251 - val_accuracy: 0.9924\n",
      "Epoch 29/100\n",
      "1875/1875 [==============================] - 45s 24ms/step - loss: 0.0194 - accuracy: 0.9934 - val_loss: 0.0255 - val_accuracy: 0.9928\n",
      "Epoch 30/100\n",
      "1875/1875 [==============================] - 44s 23ms/step - loss: 0.0196 - accuracy: 0.9933 - val_loss: 0.0296 - val_accuracy: 0.9919\n",
      "Epoch 31/100\n",
      "1875/1875 [==============================] - 46s 24ms/step - loss: 0.0186 - accuracy: 0.9940 - val_loss: 0.0267 - val_accuracy: 0.9928\n",
      "Epoch 32/100\n",
      "1875/1875 [==============================] - 45s 24ms/step - loss: 0.0183 - accuracy: 0.9937 - val_loss: 0.0271 - val_accuracy: 0.9923\n",
      "Epoch 33/100\n",
      "1875/1875 [==============================] - 45s 24ms/step - loss: 0.0173 - accuracy: 0.9947 - val_loss: 0.0338 - val_accuracy: 0.9914\n",
      "Epoch 34/100\n",
      "1875/1875 [==============================] - 45s 24ms/step - loss: 0.0193 - accuracy: 0.9941 - val_loss: 0.0269 - val_accuracy: 0.9932\n",
      "Epoch 35/100\n",
      "1875/1875 [==============================] - 44s 24ms/step - loss: 0.0187 - accuracy: 0.9939 - val_loss: 0.0283 - val_accuracy: 0.9919\n",
      "Epoch 36/100\n",
      "1875/1875 [==============================] - 46s 24ms/step - loss: 0.0182 - accuracy: 0.9939 - val_loss: 0.0270 - val_accuracy: 0.9932\n",
      "Epoch 37/100\n",
      "1875/1875 [==============================] - 45s 24ms/step - loss: 0.0181 - accuracy: 0.9939 - val_loss: 0.0265 - val_accuracy: 0.9937\n",
      "Epoch 38/100\n",
      "1875/1875 [==============================] - 44s 23ms/step - loss: 0.0180 - accuracy: 0.9943 - val_loss: 0.0261 - val_accuracy: 0.9923\n",
      "Epoch 39/100\n",
      "1875/1875 [==============================] - 43s 23ms/step - loss: 0.0162 - accuracy: 0.9945 - val_loss: 0.0302 - val_accuracy: 0.9922\n",
      "Epoch 40/100\n",
      "1875/1875 [==============================] - 44s 23ms/step - loss: 0.0180 - accuracy: 0.9937 - val_loss: 0.0288 - val_accuracy: 0.9927\n",
      "Epoch 41/100\n",
      "1875/1875 [==============================] - 43s 23ms/step - loss: 0.0181 - accuracy: 0.9942 - val_loss: 0.0271 - val_accuracy: 0.9934\n",
      "Epoch 42/100\n",
      "1875/1875 [==============================] - 44s 23ms/step - loss: 0.0175 - accuracy: 0.9944 - val_loss: 0.0284 - val_accuracy: 0.9920\n",
      "Epoch 43/100\n",
      "1875/1875 [==============================] - 43s 23ms/step - loss: 0.0173 - accuracy: 0.9944 - val_loss: 0.0267 - val_accuracy: 0.9931\n",
      "Epoch 44/100\n",
      "1875/1875 [==============================] - 45s 24ms/step - loss: 0.0169 - accuracy: 0.9944 - val_loss: 0.0325 - val_accuracy: 0.9923\n",
      "Epoch 45/100\n",
      "1875/1875 [==============================] - 47s 25ms/step - loss: 0.0166 - accuracy: 0.9944 - val_loss: 0.0252 - val_accuracy: 0.9926\n",
      "Epoch 46/100\n",
      "1875/1875 [==============================] - 44s 23ms/step - loss: 0.0173 - accuracy: 0.9943 - val_loss: 0.0254 - val_accuracy: 0.9932\n",
      "Epoch 47/100\n",
      "1875/1875 [==============================] - 46s 24ms/step - loss: 0.0162 - accuracy: 0.9942 - val_loss: 0.0292 - val_accuracy: 0.9922\n",
      "Epoch 48/100\n",
      "1875/1875 [==============================] - 44s 24ms/step - loss: 0.0164 - accuracy: 0.9948 - val_loss: 0.0269 - val_accuracy: 0.9933\n",
      "Epoch 49/100\n",
      "1875/1875 [==============================] - 44s 24ms/step - loss: 0.0157 - accuracy: 0.9949 - val_loss: 0.0365 - val_accuracy: 0.9909\n",
      "Epoch 50/100\n",
      "1875/1875 [==============================] - 45s 24ms/step - loss: 0.0154 - accuracy: 0.9946 - val_loss: 0.0263 - val_accuracy: 0.9935\n",
      "Epoch 51/100\n",
      "1875/1875 [==============================] - 47s 25ms/step - loss: 0.0161 - accuracy: 0.9945 - val_loss: 0.0277 - val_accuracy: 0.9928\n",
      "Epoch 52/100\n",
      "1875/1875 [==============================] - 47s 25ms/step - loss: 0.0156 - accuracy: 0.9948 - val_loss: 0.0283 - val_accuracy: 0.9935\n",
      "Epoch 53/100\n",
      "1875/1875 [==============================] - 44s 23ms/step - loss: 0.0158 - accuracy: 0.9948 - val_loss: 0.0315 - val_accuracy: 0.9919\n",
      "Epoch 54/100\n",
      "1875/1875 [==============================] - 47s 25ms/step - loss: 0.0167 - accuracy: 0.9942 - val_loss: 0.0247 - val_accuracy: 0.9937\n",
      "Epoch 55/100\n",
      "1875/1875 [==============================] - 45s 24ms/step - loss: 0.0162 - accuracy: 0.9947 - val_loss: 0.0273 - val_accuracy: 0.9926\n",
      "Epoch 56/100\n",
      "1875/1875 [==============================] - 45s 24ms/step - loss: 0.0146 - accuracy: 0.9951 - val_loss: 0.0295 - val_accuracy: 0.9919\n",
      "Epoch 57/100\n",
      "1875/1875 [==============================] - 44s 23ms/step - loss: 0.0150 - accuracy: 0.9949 - val_loss: 0.0277 - val_accuracy: 0.9933\n"
     ]
    },
    {
     "data": {
      "image/png": "[encoded data removed]",
      "text/plain": [
       "<Figure size 1500x600 with 2 Axes>"
      ]
     },
     "metadata": {},
     "output_type": "display_data"
    }
   ],
   "source": [
    "# training\n",
    "history = model1.fit(x_train, y_train, epochs = 100, batch_size = 32,\n",
    " validation_data = (x_test, y_test), verbose =1, callbacks = [es, mc])\n",
    "# history\n",
    "summarize_diagnostics(history)"
   ]
  }
 ],
 "metadata": {
  "kernelspec": {
   "display_name": "Python 3 (ipykernel)",
   "language": "python",
   "name": "python3"
  },
  "language_info": {
   "codemirror_mode": {
    "name": "ipython",
    "version": 3
   },
   "file_extension": ".py",
   "mimetype": "text/x-python",
   "name": "python",
   "nbconvert_exporter": "python",
   "pygments_lexer": "ipython3",
   "version": "3.9.13"
  }
 },
 "nbformat": 4,
 "nbformat_minor": 5
}
