{
 "cells": [
  {
   "cell_type": "code",
   "execution_count": 1,
   "id": "95925f7c",
   "metadata": {},
   "outputs": [],
   "source": [
    "import pandas as pd\n",
    "import numpy as np"
   ]
  },
  {
   "cell_type": "markdown",
   "id": "c21ffb40",
   "metadata": {},
   "source": [
    "#### (a) 데이터를 feature와 label로 나누시오."
   ]
  },
  {
   "cell_type": "code",
   "execution_count": 2,
   "id": "10f75ef5",
   "metadata": {},
   "outputs": [],
   "source": [
    "import os\n",
    "imdb_dir='C:\\\\Users\\\\Kim\\\\Downloads\\\\aclImdb'\n",
    "train_dir = os.path.join(imdb_dir, 'train')\n",
    "labels = []\n",
    "texts = []\n",
    "for label_type in ['neg', 'pos']:\n",
    "    dir_name = os.path.join(train_dir, label_type)\n",
    "    for fname in os.listdir(dir_name):\n",
    "        if fname[-4:] == '.txt':\n",
    "            f = open(os.path.join(dir_name, fname), encoding='UTF8')\n",
    "            texts.append(f.read())\n",
    "            f.close()\n",
    "            if label_type == 'neg':\n",
    "                labels.append(0)\n",
    "            else:\n",
    "                labels.append(1)"
   ]
  },
  {
   "cell_type": "markdown",
   "id": "5fc2fe49",
   "metadata": {},
   "source": [
    "#### (b) 데이터에 대하여 토큰화를 실행하시오."
   ]
  },
  {
   "cell_type": "code",
   "execution_count": 3,
   "id": "7e9bd820",
   "metadata": {},
   "outputs": [
    {
     "name": "stdout",
     "output_type": "stream",
     "text": [
      "Found 88582 unique tokens.\n",
      "Shape of data tensor: (25000, 100)\n",
      "Shape of label tensor: (25000,)\n"
     ]
    }
   ],
   "source": [
    "# Tokenizing the text of the raw IMDB data\n",
    "from keras.preprocessing.text import Tokenizer\n",
    "from keras.preprocessing import sequence\n",
    "from tensorflow.keras.preprocessing.sequence import pad_sequences\n",
    "maxlen = 100\n",
    "\n",
    "max_words = 10000\n",
    "tokenizer = Tokenizer(num_words=max_words)\n",
    "tokenizer.fit_on_texts(texts)\n",
    "sequences = tokenizer.texts_to_sequences(texts)\n",
    "word_index = tokenizer.word_index\n",
    "print(f'Found {len(word_index)} unique tokens.')\n",
    "data = pad_sequences(sequences, maxlen=maxlen)\n",
    "labels = np.asarray(labels)\n",
    "print('Shape of data tensor:', data.shape)\n",
    "print('Shape of label tensor:', labels.shape)"
   ]
  },
  {
   "cell_type": "markdown",
   "id": "8516f624",
   "metadata": {},
   "source": [
    "#### (c) train data는 20000개, validation data는 5000개로 분리하시오."
   ]
  },
  {
   "cell_type": "code",
   "execution_count": 4,
   "id": "a0ce0039",
   "metadata": {},
   "outputs": [],
   "source": [
    "training_samples = 20000\n",
    "validation_samples = 5000\n",
    "indices = np.arange(data.shape[0])\n",
    "np.random.shuffle(indices)\n",
    "data = data[indices]\n",
    "labels = labels[indices]\n",
    "x_train = data[:training_samples]\n",
    "y_train = labels[:training_samples]\n",
    "x_val = data[training_samples: training_samples + validation_samples]\n",
    "y_val = labels[training_samples: training_samples + validation_samples]"
   ]
  },
  {
   "cell_type": "markdown",
   "id": "c8e5212e",
   "metadata": {},
   "source": [
    "#### (d) 딥러닝 모델을 정의할 때 모델의 하이퍼 파라미터는 모델의 성능에 영향을 준다. 따라서, 좋은 성능의 모델을 찾기 위해선 은닉층의 개수, 층마다 있는 뉴런의 개수, 각 층에서 사용하는 활성화 함수, 가중치 초기화, 에포트, 배치 사이즈 등 다양한 하이퍼 파라미터에 변화를 주며 최적의 조합을 찾아내야 한다. Keras를 이용하여 모델을 정의하도록 하며, 위에서 언급한 하이퍼 파라미터의 설정에 변화를 주어 각각 다른 5개의 모델을 정의하시오. (모델에 대한 코드를 반드시 첨부할 것.)"
   ]
  },
  {
   "cell_type": "code",
   "execution_count": 6,
   "id": "f2fa8c32",
   "metadata": {
    "scrolled": true
   },
   "outputs": [
    {
     "name": "stdout",
     "output_type": "stream",
     "text": [
      "Model: \"sequential_1\"\n",
      "_________________________________________________________________\n",
      " Layer (type)                Output Shape              Param #   \n",
      "=================================================================\n",
      " embedding_1 (Embedding)     (None, 100, 100)          1000000   \n",
      "                                                                 \n",
      " flatten_1 (Flatten)         (None, 10000)             0         \n",
      "                                                                 \n",
      " dense_2 (Dense)             (None, 32)                320032    \n",
      "                                                                 \n",
      " dense_3 (Dense)             (None, 1)                 33        \n",
      "                                                                 \n",
      "=================================================================\n",
      "Total params: 1,320,065\n",
      "Trainable params: 1,320,065\n",
      "Non-trainable params: 0\n",
      "_________________________________________________________________\n",
      "Epoch 1/2\n",
      "625/625 [==============================] - 7s 11ms/step - loss: 0.4497 - acc: 0.7782 - val_loss: 0.3408 - val_acc: 0.8514\n",
      "Epoch 2/2\n",
      "625/625 [==============================] - 6s 10ms/step - loss: 0.1696 - acc: 0.9378 - val_loss: 0.3956 - val_acc: 0.8474\n"
     ]
    }
   ],
   "source": [
    "# model 1\n",
    "from keras.models import Sequential\n",
    "from keras.layers import Embedding, Flatten, Dense\n",
    "model1 = Sequential()\n",
    "model1.add(Embedding(max_words, 100, input_length=maxlen))\n",
    "model1.add(Flatten())\n",
    "model1.add(Dense(32, activation='relu'))\n",
    "model1.add(Dense(1, activation='sigmoid'))\n",
    "model1.summary()\n",
    "model1.compile(optimizer='rmsprop', loss='binary_crossentropy', metrics=['acc'])\n",
    "history = model1.fit(x_train, y_train, epochs=2, batch_size=32, \n",
    "                     validation_data=(x_val, y_val))"
   ]
  },
  {
   "cell_type": "code",
   "execution_count": null,
   "id": "1769754c",
   "metadata": {
    "scrolled": true
   },
   "outputs": [],
   "source": [
    "# model 2\n",
    "from keras.models import Sequential\n",
    "from keras.layers import Embedding, Flatten, Dense\n",
    "model2 = Sequential()\n",
    "model2.add(Embedding(max_words, 100, input_length=maxlen))\n",
    "model2.add(Flatten())\n",
    "model2.add(Dense(32, activation='relu'))\n",
    "model2.add(Dense(1, activation='sigmoid'))\n",
    "model2.summary()\n",
    "model2.compile(optimizer='rmsprop', loss='binary_crossentropy', metrics=['acc'])\n",
    "history2 = model2.fit(x_train, y_train, epochs=10, batch_size=64, \n",
    "                      validation_data=(x_val, y_val))"
   ]
  },
  {
   "cell_type": "code",
   "execution_count": null,
   "id": "a2bf918b",
   "metadata": {},
   "outputs": [],
   "source": [
    "# model 3\n",
    "from keras.models import Sequential\n",
    "from keras.layers import Embedding, Flatten, Dense\n",
    "model3 = Sequential()\n",
    "model3.add(Embedding(max_words, 100, input_length=maxlen))\n",
    "model3.add(Flatten())\n",
    "model3.add(Dense(16, activation='relu'))\n",
    "model3.add(Dense(1, activation='sigmoid'))\n",
    "model3.summary()\n",
    "model3.compile(optimizer='rmsprop', loss='binary_crossentropy', metrics=['acc'])\n",
    "history3 = model3.fit(x_train, y_train, epochs=10, batch_size=64, \n",
    "                      validation_data=(x_val, y_val))"
   ]
  },
  {
   "cell_type": "code",
   "execution_count": null,
   "id": "a2712a9e",
   "metadata": {},
   "outputs": [],
   "source": [
    "# model 4\n",
    "from keras.models import Sequential\n",
    "from keras.layers import Embedding, Flatten, Dense\n",
    "model4 = Sequential()\n",
    "model4.add(Embedding(max_words, 100, input_length=maxlen))\n",
    "model4.add(Flatten())\n",
    "model4.add(Dense(32, activation='relu'))\n",
    "model4.add(Dense(1, activation='sigmoid'))\n",
    "model4.summary()\n",
    "model4.compile(optimizer='adam', loss='binary_crossentropy', metrics=['acc'])\n",
    "history4 = model4.fit(x_train, y_train, epochs=10, batch_size=32, \n",
    "                      validation_data=(x_val, y_val))"
   ]
  },
  {
   "cell_type": "code",
   "execution_count": null,
   "id": "fcf5afa2",
   "metadata": {},
   "outputs": [],
   "source": [
    "# model 5\n",
    "from keras.models import Sequential\n",
    "from keras.layers import Embedding, Flatten, Dense\n",
    "model5 = Sequential()\n",
    "model5.add(Embedding(max_words, 100, input_length=maxlen))\n",
    "model5.add(Flatten())\n",
    "model5.add(Dense(32, activation='relu'))\n",
    "model5.add(Dense(1, activation='sigmoid'))\n",
    "model5.summary()\n",
    "model5.compile(optimizer='adam', loss='binary_crossentropy', metrics=['acc'])\n",
    "history4 = model4.fit(x_train, y_train, epochs=3, batch_size=128, \n",
    "                      validation_data=(x_val, y_val))"
   ]
  },
  {
   "cell_type": "markdown",
   "id": "fb7dba06",
   "metadata": {},
   "source": [
    "#### (e) (d)의 결과에 대하여 모델별로 confution matrix를 구하시오. 어떤 모델의 성능이 가장 좋은가?"
   ]
  },
  {
   "cell_type": "markdown",
   "id": "1957848c",
   "metadata": {},
   "source": [
    "> confusion matrix에서 accuracy가 0.84132로 가장 높은 model4의 성능이 가장 좋다."
   ]
  },
  {
   "cell_type": "code",
   "execution_count": 7,
   "id": "ad7ab9d5",
   "metadata": {},
   "outputs": [],
   "source": [
    "# Tokenizing the data of the test set\n",
    "test_dir = os.path.join(imdb_dir, 'test')\n",
    "labels = []\n",
    "texts = []\n",
    "\n",
    "for label_type in ['neg', 'pos']:\n",
    "    dir_name = os.path.join(test_dir, label_type)\n",
    "    for fname in sorted(os.listdir(dir_name)):\n",
    "        if fname[-4:] == '.txt':\n",
    "            f = open(os.path.join(dir_name, fname), encoding='utf-8')\n",
    "            texts.append(f.read())\n",
    "            f.close()\n",
    "            if label_type == 'neg':\n",
    "                labels.append(0)\n",
    "            else:\n",
    "                labels.append(1)\n",
    "\n",
    "sequences = tokenizer.texts_to_sequences(texts)\n",
    "x_test = pad_sequences(sequences, maxlen=maxlen)\n",
    "y_test = np.asarray(labels)"
   ]
  },
  {
   "cell_type": "code",
   "execution_count": 8,
   "id": "e5b721a6",
   "metadata": {},
   "outputs": [
    {
     "name": "stdout",
     "output_type": "stream",
     "text": [
      "782/782 [==============================] - 2s 2ms/step\n",
      "[[10351  2149]\n",
      " [ 1993 10507]]\n"
     ]
    }
   ],
   "source": [
    "import numpy as np\n",
    "from sklearn.metrics import confusion_matrix\n",
    "from sklearn.metrics import accuracy_score\n",
    "\n",
    "# model 1\n",
    "y_pred = model1.predict(x_test)\n",
    "y_pred_classes = np.round(y_pred).flatten()\n",
    "y_true_classes = y_test.flatten()\n",
    "\n",
    "mymtx = confusion_matrix(y_true_classes, y_pred_classes)\n",
    "print(mymtx)"
   ]
  },
  {
   "cell_type": "code",
   "execution_count": 10,
   "id": "fcd8ba90",
   "metadata": {},
   "outputs": [
    {
     "name": "stdout",
     "output_type": "stream",
     "text": [
      "782/782 [==============================] - 3s 3ms/step - loss: 0.4064 - acc: 0.8343\n"
     ]
    },
    {
     "data": {
      "text/plain": [
       "0.8343200087547302"
      ]
     },
     "execution_count": 10,
     "metadata": {},
     "output_type": "execute_result"
    }
   ],
   "source": [
    "loss, acc = model1.evaluate(x_test, y_test)\n",
    "acc"
   ]
  },
  {
   "cell_type": "code",
   "execution_count": 60,
   "id": "460ed3bc",
   "metadata": {},
   "outputs": [
    {
     "data": {
      "text/plain": [
       "0.82972"
      ]
     },
     "execution_count": 60,
     "metadata": {},
     "output_type": "execute_result"
    }
   ],
   "source": [
    "(10312+10431)/(10312+2188+2069+10431)"
   ]
  },
  {
   "cell_type": "code",
   "execution_count": 52,
   "id": "7e4e8f37",
   "metadata": {},
   "outputs": [
    {
     "name": "stdout",
     "output_type": "stream",
     "text": [
      "782/782 [==============================] - 2s 2ms/step\n",
      "[[10427  2073]\n",
      " [ 2032 10468]]\n"
     ]
    }
   ],
   "source": [
    "# model 2\n",
    "y_pred = model2.predict(x_test)\n",
    "y_pred_classes = np.round(y_pred).flatten()\n",
    "y_true_classes = y_test.flatten()\n",
    "\n",
    "mymtx = confusion_matrix(y_true_classes, y_pred_classes)\n",
    "print(mymtx)"
   ]
  },
  {
   "cell_type": "code",
   "execution_count": 61,
   "id": "4f2b85bf",
   "metadata": {},
   "outputs": [
    {
     "data": {
      "text/plain": [
       "0.8358"
      ]
     },
     "execution_count": 61,
     "metadata": {},
     "output_type": "execute_result"
    }
   ],
   "source": [
    "(10427+10468)/(10427+2073+2032+10468)"
   ]
  },
  {
   "cell_type": "code",
   "execution_count": 53,
   "id": "eda4e97b",
   "metadata": {},
   "outputs": [
    {
     "name": "stdout",
     "output_type": "stream",
     "text": [
      "782/782 [==============================] - 2s 2ms/step\n",
      "[[10381  2119]\n",
      " [ 1960 10540]]\n"
     ]
    }
   ],
   "source": [
    "# model 3\n",
    "y_pred = model3.predict(x_test)\n",
    "y_pred_classes = np.round(y_pred).flatten()\n",
    "y_true_classes = y_test.flatten()\n",
    "\n",
    "mymtx = confusion_matrix(y_true_classes, y_pred_classes)\n",
    "print(mymtx)"
   ]
  },
  {
   "cell_type": "code",
   "execution_count": 62,
   "id": "6a6bc4ac",
   "metadata": {},
   "outputs": [
    {
     "data": {
      "text/plain": [
       "0.83684"
      ]
     },
     "execution_count": 62,
     "metadata": {},
     "output_type": "execute_result"
    }
   ],
   "source": [
    "(10381+10540)/(10381+2119+1960+10540)"
   ]
  },
  {
   "cell_type": "code",
   "execution_count": 50,
   "id": "75fcfa93",
   "metadata": {},
   "outputs": [
    {
     "name": "stdout",
     "output_type": "stream",
     "text": [
      "782/782 [==============================] - 2s 2ms/step\n",
      "[[10467  2033]\n",
      " [ 1934 10566]]\n"
     ]
    }
   ],
   "source": [
    "# model 4\n",
    "y_pred = model4.predict(x_test)\n",
    "y_pred_classes = np.round(y_pred).flatten()\n",
    "y_true_classes = y_test.flatten()\n",
    "\n",
    "mymtx = confusion_matrix(y_true_classes, y_pred_classes)\n",
    "print(mymtx)"
   ]
  },
  {
   "cell_type": "code",
   "execution_count": 63,
   "id": "f0aae078",
   "metadata": {},
   "outputs": [
    {
     "data": {
      "text/plain": [
       "0.84132"
      ]
     },
     "execution_count": 63,
     "metadata": {},
     "output_type": "execute_result"
    }
   ],
   "source": [
    "(10467+10566)/(10467+2033+1934+10566)"
   ]
  },
  {
   "cell_type": "code",
   "execution_count": 55,
   "id": "84fd70de",
   "metadata": {},
   "outputs": [
    {
     "name": "stdout",
     "output_type": "stream",
     "text": [
      "782/782 [==============================] - 2s 2ms/step\n",
      "[[6053 6447]\n",
      " [5960 6540]]\n"
     ]
    }
   ],
   "source": [
    "# model 5\n",
    "y_pred = model5.predict(x_test)\n",
    "y_pred_classes = np.round(y_pred).flatten()\n",
    "y_true_classes = y_test.flatten()\n",
    "\n",
    "mymtx = confusion_matrix(y_true_classes, y_pred_classes)\n",
    "print(mymtx)"
   ]
  },
  {
   "cell_type": "code",
   "execution_count": 64,
   "id": "f53c680f",
   "metadata": {},
   "outputs": [
    {
     "data": {
      "text/plain": [
       "0.50372"
      ]
     },
     "execution_count": 64,
     "metadata": {},
     "output_type": "execute_result"
    }
   ],
   "source": [
    "(6053+6540)/(6053+6447+5960+6540)"
   ]
  },
  {
   "cell_type": "markdown",
   "id": "3aa17e27",
   "metadata": {},
   "source": [
    "#### (f) (d)에서 정의한 모델 중 하나를 선택하여 callback option을 설정하여 학습을 진행할 것이다. epoch=100, batch_size=32으로 설정한 후, Call back option을 사용하여 model의 accuracy가 20번 동안 좋아지지 않으면 학습을 멈추도록 설정하시오. 또한, training history를 시각화하여 plot을 첨부하시오."
   ]
  },
  {
   "cell_type": "code",
   "execution_count": 74,
   "id": "d9680300",
   "metadata": {},
   "outputs": [
    {
     "name": "stdout",
     "output_type": "stream",
     "text": [
      "Epoch 1/100\n",
      "625/625 [==============================] - 7s 11ms/step - loss: 2.8241e-09 - acc: 1.0000 - val_loss: 1.3492 - val_acc: 0.8476\n",
      "Epoch 2/100\n",
      "625/625 [==============================] - 8s 12ms/step - loss: 2.7511e-09 - acc: 1.0000 - val_loss: 1.3500 - val_acc: 0.8476\n",
      "Epoch 3/100\n",
      "625/625 [==============================] - 7s 12ms/step - loss: 2.8010e-09 - acc: 1.0000 - val_loss: 1.3507 - val_acc: 0.8476\n",
      "Epoch 4/100\n",
      "625/625 [==============================] - 7s 11ms/step - loss: 2.8261e-09 - acc: 1.0000 - val_loss: 1.3517 - val_acc: 0.8476\n",
      "Epoch 5/100\n",
      "625/625 [==============================] - 7s 11ms/step - loss: 2.8298e-09 - acc: 1.0000 - val_loss: 1.3508 - val_acc: 0.8468\n",
      "Epoch 6/100\n",
      "625/625 [==============================] - 7s 12ms/step - loss: 2.8276e-09 - acc: 1.0000 - val_loss: 1.3522 - val_acc: 0.8474\n",
      "Epoch 7/100\n",
      "625/625 [==============================] - 8s 12ms/step - loss: 2.8192e-09 - acc: 1.0000 - val_loss: 1.3524 - val_acc: 0.8472\n",
      "Epoch 8/100\n",
      "625/625 [==============================] - 7s 12ms/step - loss: 2.7889e-09 - acc: 1.0000 - val_loss: 1.3517 - val_acc: 0.8478\n",
      "Epoch 9/100\n",
      "625/625 [==============================] - 8s 12ms/step - loss: 2.8204e-09 - acc: 1.0000 - val_loss: 1.3526 - val_acc: 0.8476\n",
      "Epoch 10/100\n",
      "625/625 [==============================] - 8s 12ms/step - loss: 2.7825e-09 - acc: 1.0000 - val_loss: 1.3537 - val_acc: 0.8474\n",
      "Epoch 11/100\n",
      "625/625 [==============================] - 8s 13ms/step - loss: 2.8824e-09 - acc: 1.0000 - val_loss: 1.3543 - val_acc: 0.8474\n",
      "Epoch 12/100\n",
      "625/625 [==============================] - 8s 13ms/step - loss: 2.7868e-09 - acc: 1.0000 - val_loss: 1.3536 - val_acc: 0.8474\n",
      "Epoch 13/100\n",
      "625/625 [==============================] - 9s 14ms/step - loss: 2.8458e-09 - acc: 1.0000 - val_loss: 1.3542 - val_acc: 0.8476\n",
      "Epoch 14/100\n",
      "625/625 [==============================] - 9s 14ms/step - loss: 2.8022e-09 - acc: 1.0000 - val_loss: 1.3556 - val_acc: 0.8468\n",
      "Epoch 15/100\n",
      "625/625 [==============================] - 9s 14ms/step - loss: 2.8175e-09 - acc: 1.0000 - val_loss: 1.3562 - val_acc: 0.8470\n",
      "Epoch 16/100\n",
      "625/625 [==============================] - 9s 14ms/step - loss: 2.7884e-09 - acc: 1.0000 - val_loss: 1.3552 - val_acc: 0.8472\n",
      "Epoch 17/100\n",
      "625/625 [==============================] - 9s 15ms/step - loss: 2.7606e-09 - acc: 1.0000 - val_loss: 1.3561 - val_acc: 0.8476\n",
      "Epoch 18/100\n",
      "625/625 [==============================] - 11s 18ms/step - loss: 2.7841e-09 - acc: 1.0000 - val_loss: 1.3561 - val_acc: 0.8472\n",
      "Epoch 19/100\n",
      "625/625 [==============================] - 13s 22ms/step - loss: 2.7923e-09 - acc: 1.0000 - val_loss: 1.3566 - val_acc: 0.8470\n",
      "Epoch 20/100\n",
      "625/625 [==============================] - 10s 17ms/step - loss: 2.8225e-09 - acc: 1.0000 - val_loss: 1.3567 - val_acc: 0.8470\n",
      "Epoch 21/100\n",
      "625/625 [==============================] - 9s 14ms/step - loss: 2.7806e-09 - acc: 1.0000 - val_loss: 1.3569 - val_acc: 0.8472\n",
      "Epoch 22/100\n",
      "625/625 [==============================] - 9s 14ms/step - loss: 2.8296e-09 - acc: 1.0000 - val_loss: 1.3568 - val_acc: 0.8472\n",
      "Epoch 23/100\n",
      "625/625 [==============================] - 8s 13ms/step - loss: 2.8340e-09 - acc: 1.0000 - val_loss: 1.3574 - val_acc: 0.8470\n",
      "Epoch 24/100\n",
      "625/625 [==============================] - 8s 13ms/step - loss: 2.8065e-09 - acc: 1.0000 - val_loss: 1.3589 - val_acc: 0.8468\n",
      "Epoch 25/100\n",
      "625/625 [==============================] - 9s 14ms/step - loss: 2.7681e-09 - acc: 1.0000 - val_loss: 1.3589 - val_acc: 0.8474\n",
      "Epoch 26/100\n",
      "625/625 [==============================] - 9s 14ms/step - loss: 2.8303e-09 - acc: 1.0000 - val_loss: 1.3591 - val_acc: 0.8472\n",
      "Epoch 27/100\n",
      "625/625 [==============================] - 9s 14ms/step - loss: 2.7904e-09 - acc: 1.0000 - val_loss: 1.3580 - val_acc: 0.8470\n",
      "Epoch 28/100\n",
      "625/625 [==============================] - 9s 14ms/step - loss: 2.8300e-09 - acc: 1.0000 - val_loss: 1.3588 - val_acc: 0.8472\n"
     ]
    }
   ],
   "source": [
    "import matplotlib.pyplot as plt\n",
    "from keras.callbacks import EarlyStopping\n",
    "\n",
    "# EarlyStopping 콜백 설정\n",
    "early_stopping = EarlyStopping(monitor='val_acc', patience=20)\n",
    "\n",
    "# 모델 학습\n",
    "history = model4.fit(x_train, y_train, epochs=100, batch_size=32, \n",
    "                     validation_data=(x_val, y_val), callbacks=[early_stopping])"
   ]
  },
  {
   "cell_type": "code",
   "execution_count": 75,
   "id": "9e001960",
   "metadata": {},
   "outputs": [
    {
     "data": {
      "image/png": "[encoded data removed]",
      "text/plain": [
       "<Figure size 640x480 with 1 Axes>"
      ]
     },
     "metadata": {},
     "output_type": "display_data"
    }
   ],
   "source": [
    "import matplotlib.pyplot as plt\n",
    "acc = history.history['acc']\n",
    "val_acc = history.history['val_acc']\n",
    "loss = history.history['loss']\n",
    "val_loss = history.history['val_loss']\n",
    "epochs = range(1, len(acc) + 1)\n",
    "plt.plot(epochs, acc, 'bo', label='Training acc')\n",
    "plt.plot(epochs, val_acc, 'b', label='Validation acc')\n",
    "plt.title('Training and validation accuracy')\n",
    "plt.legend()\n",
    "plt.show()"
   ]
  },
  {
   "cell_type": "code",
   "execution_count": null,
   "id": "6b6972dc",
   "metadata": {},
   "outputs": [],
   "source": []
  }
 ],
 "metadata": {
  "kernelspec": {
   "display_name": "Python 3 (ipykernel)",
   "language": "python",
   "name": "python3"
  },
  "language_info": {
   "codemirror_mode": {
    "name": "ipython",
    "version": 3
   },
   "file_extension": ".py",
   "mimetype": "text/x-python",
   "name": "python",
   "nbconvert_exporter": "python",
   "pygments_lexer": "ipython3",
   "version": "3.9.13"
  }
 },
 "nbformat": 4,
 "nbformat_minor": 5
}
